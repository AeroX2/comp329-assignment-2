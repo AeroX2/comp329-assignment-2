{
 "cells": [
  {
   "cell_type": "markdown",
   "metadata": {},
   "source": [
    "## Assignment 2 [Draft version]\n",
    "## Weight: 20%\n",
    "## Unit - COMP329: Artificial Intelligence\n",
    "## Date of Release: 18 October, 2018\n",
    "## Date of Submission: 07 November, 2018 [11: 55 pm]\n"
   ]
  },
  {
   "cell_type": "markdown",
   "metadata": {},
   "source": [
    "### Write your Details below:"
   ]
  },
  {
   "cell_type": "raw",
   "metadata": {},
   "source": [
    "Registration Number: 44805632\n",
    "Name of the student: James Ridey"
   ]
  },
  {
   "cell_type": "markdown",
   "metadata": {},
   "source": [
    "# The goal of this assignment is to see the power of Evolutionary Algorithms such as Genetic Algorithm (GA) for solving real-world problem such as Travelling Salesman Problem (TSP) and evolving strategies for adversarial games such as Tic-Tac-Toe."
   ]
  },
  {
   "cell_type": "markdown",
   "metadata": {},
   "source": [
    "## Travelling Salesman Problem:\n",
    "### Acknowledgment: \n",
    "#### The following is largely based on Peter Norvig's note on TSP: (https://github.com/norvig/pytudes/blob/master/ipynb/TSP.ipynb)\n",
    "#### Given a set of cities and the distance between each pair of cities, what is the shortest possible tour that visits each city exactly once, and returns to the starting city?"
   ]
  },
  {
   "cell_type": "markdown",
   "metadata": {},
   "source": [
    "<img src=\"tsp.png\">"
   ]
  },
  {
   "cell_type": "markdown",
   "metadata": {},
   "source": [
    "#### Let's us define the problem more precisely\n",
    "- ***Given a set of cities***\n",
    "<br>A Python `set` could represent a set of cities. An individual city might be just an integer index, or it might be (x, y) coordinates.\n",
    "- ... ***and the distance between each pair of cities***: \n",
    "<br>We could use either a function, `distance(A, B),` or a table, `distance[A, B]`.\n",
    "- ... ***what is the shortest possible tour***\n",
    "<br>A tour is a sequential order in which to visit the cities; a function `shortest_tour(tours)` should find the one that minimizes `tour_length(tour)`, which is the sum of the distances between adjacent cities in the tour. \n",
    "- ... ***that visits each city once and returns to the starting city***\n",
    "<br>Make sure a tour doesn't re-visit a city (except returning to the start)."
   ]
  },
  {
   "cell_type": "markdown",
   "metadata": {},
   "source": [
    "### The *vocabulary* of the problem:\n",
    "\n",
    "- **City**: For the purpose of this exercise, a city is \"atomic\" in the sense that we don't have to know anything about the components or attributes of a city, just how far it is from other cities.\n",
    "- **Cities**: We will need to represent a set of cities; Python's `set` datatype might be appropriate for that.\n",
    "- **Distance**: We will need the distance between two cities.  If `A` and `B` are cities. This could be done with a function, `distance(A, B)`, or with a dict, `distance[A][B]` or `distance[A, B]`, or with an array if `A` and `B` are integer indexes.  The resulting distance will be a real number (which Python calls a `float`).\n",
    "- **Tour**: A tour is an ordered list of cities; Python's `list` or `tuple` datatypes would work.\n",
    "- **Total distance**: The sum of the distances of adjacent cities in the tour. "
   ]
  },
  {
   "cell_type": "code",
   "execution_count": 1,
   "metadata": {},
   "outputs": [],
   "source": [
    "import matplotlib.pyplot as plt\n",
    "import matplotlib.colors as colors\n",
    "import matplotlib.cm as cmx\n",
    "\n",
    "import random, operator, time, itertools, math\n",
    "import numpy\n",
    "\n",
    "%matplotlib inline\n",
    "#%config InlineBackend.figure_format = 'retina'\n",
    "#plt.rc('text', usetex=True)\n",
    "#plt.rc('font', family='serif')\n",
    "#plt.rcParams['text.latex.preamble'] ='\\\\usepackage{libertine}\\n\\\\usepackage[utf8]{inputenc}'\n",
    "\n",
    "import seaborn\n",
    "seaborn.set(style='whitegrid')\n",
    "seaborn.set_context('notebook')"
   ]
  },
  {
   "cell_type": "markdown",
   "metadata": {},
   "source": [
    "### First algorithm: find the tour with shortest total distance from all possible tours\n",
    "\n",
    "> *Generate all the possible tours of the cities, and choose the shortest one (the tour with the minimum total distance).*\n",
    "\n",
    "### Representing Tours\n",
    "\n",
    "- A tour starts in one city, and then visits each of the other cities in order, before finally retirning to the start. \n",
    "- A natural representation of the set of available cities is a Python `set`, and a natural representation of a tour is a sequence that is a *permutation* of the set. \n",
    "- The tuple `(1, 2, 3)`, for example, represents a tour that starts in city 1, moves to 2, then 3, and then returns to 1 to finish the tour."
   ]
  },
  {
   "cell_type": "code",
   "execution_count": 2,
   "metadata": {},
   "outputs": [
    {
     "data": {
      "text/plain": [
       "[(1, 2, 3), (1, 3, 2), (2, 1, 3), (2, 3, 1), (3, 1, 2), (3, 2, 1)]"
      ]
     },
     "execution_count": 2,
     "metadata": {},
     "output_type": "execute_result"
    }
   ],
   "source": [
    "alltours = itertools.permutations\n",
    "cities = {1, 2, 3}\n",
    "list(alltours(cities))"
   ]
  },
  {
   "cell_type": "markdown",
   "metadata": {},
   "source": [
    "### Representing Cities and Distance\n",
    "\n",
    "Now for the notion of *distance*.  We define `total_distance(tour)` as the sum of the distances between consecutive cities in the tour; that part is shown below and is easy (with one Python-specific trick: when `i` is 0, then `distance(tour[0], tour[-1])` gives us the wrap-around distance between the first and last cities, because `tour[-1]` is the last element of `tour`). \n"
   ]
  },
  {
   "cell_type": "code",
   "execution_count": 3,
   "metadata": {},
   "outputs": [],
   "source": [
    "def total_distance(tour):\n",
    "    \"The total distance between each pair of consecutive cities in the tour.\"\n",
    "    return sum(distance(tour[i], tour[i-1]) \n",
    "               for i in range(len(tour)))"
   ]
  },
  {
   "cell_type": "code",
   "execution_count": 4,
   "metadata": {},
   "outputs": [],
   "source": [
    "def exact_TSP(cities):\n",
    "    \"Generate all possible tours of the cities and choose the shortest one.\"\n",
    "    return shortest(alltours(cities))\n",
    "\n",
    "def shortest(tours): \n",
    "    \"Return the tour with the minimum total distance.\"\n",
    "    return min(tours, key=total_distance)"
   ]
  },
  {
   "cell_type": "markdown",
   "metadata": {},
   "source": [
    "### Representing distance between cities"
   ]
  },
  {
   "cell_type": "code",
   "execution_count": 5,
   "metadata": {},
   "outputs": [],
   "source": [
    "City = complex # Constructor for new cities, e.g. City(300, 400)"
   ]
  },
  {
   "cell_type": "code",
   "execution_count": 6,
   "metadata": {},
   "outputs": [],
   "source": [
    "def distance(A, B): \n",
    "    \"The Euclidean distance between two cities.\"\n",
    "    return abs(A - B)"
   ]
  },
  {
   "cell_type": "code",
   "execution_count": 7,
   "metadata": {},
   "outputs": [
    {
     "data": {
      "text/plain": [
       "500.0"
      ]
     },
     "execution_count": 7,
     "metadata": {},
     "output_type": "execute_result"
    }
   ],
   "source": [
    "# An example to show the distance between city A and city B\n",
    "A = City(300, 0)\n",
    "B = City(0, 400)\n",
    "distance(A, B)"
   ]
  },
  {
   "cell_type": "code",
   "execution_count": 8,
   "metadata": {},
   "outputs": [],
   "source": [
    "# function to generate n cities randomly using random number generator\n",
    "def generate_cities(n):\n",
    "    \"Make a set of n cities, each with random coordinates.\"\n",
    "    return set(City(random.randrange(10, 890), \n",
    "                    random.randrange(10, 590)) \n",
    "               for c in range(n))"
   ]
  },
  {
   "cell_type": "code",
   "execution_count": 9,
   "metadata": {},
   "outputs": [],
   "source": [
    "# Generating cities\n",
    "cities8, cities10, cities100, cities1000 = generate_cities(8), generate_cities(10), generate_cities(100), generate_cities(1000)"
   ]
  },
  {
   "cell_type": "code",
   "execution_count": 10,
   "metadata": {},
   "outputs": [
    {
     "data": {
      "text/plain": [
       "{(167+20j),\n",
       " (333+225j),\n",
       " (412+47j),\n",
       " (426+441j),\n",
       " (605+445j),\n",
       " (698+370j),\n",
       " (818+516j),\n",
       " (866+280j),\n",
       " (872+362j),\n",
       " (888+414j)}"
      ]
     },
     "execution_count": 10,
     "metadata": {},
     "output_type": "execute_result"
    }
   ],
   "source": [
    "# Getting coordinates for 10 cities\n",
    "cities10"
   ]
  },
  {
   "cell_type": "markdown",
   "metadata": {},
   "source": [
    "### functions to plot the tour"
   ]
  },
  {
   "cell_type": "code",
   "execution_count": 11,
   "metadata": {},
   "outputs": [],
   "source": [
    "def plot_tour(tour, alpha=1, color=None):\n",
    "    # Plot the tour as blue lines between blue circles, and the starting city as a red square.\n",
    "    plotline(list(tour) + [tour[0]], alpha=alpha, color=color)\n",
    "    plotline([tour[0]], style='gD', alpha=alpha, size=10)\n",
    "    plt.show()\n",
    "    \n",
    "def plotline(points, style='bo-', alpha=1, size=7, color=None):\n",
    "    \"Plot a list of points (complex numbers) in the 2-D plane.\"\n",
    "    X, Y = XY(points)\n",
    "    \n",
    "    if color:\n",
    "        plt.plot(X, Y, style, alpha=alpha, markersize=size, color=color)\n",
    "    else:\n",
    "        plt.plot(X, Y, style, alpha=alpha, markersize=size)\n",
    "    \n",
    "def XY(points):\n",
    "    \"Given a list of points, return two lists: X coordinates, and Y coordinates.\"\n",
    "    return [p.real for p in points], [p.imag for p in points]"
   ]
  },
  {
   "cell_type": "code",
   "execution_count": 12,
   "metadata": {},
   "outputs": [
    {
     "data": {
      "image/png": "[encoded data removed]",
      "text/plain": [
       "<Figure size 432x288 with 1 Axes>"
      ]
     },
     "metadata": {
      "needs_background": "light"
     },
     "output_type": "display_data"
    }
   ],
   "source": [
    "tour = exact_TSP(cities10)\n",
    "plot_tour(tour)"
   ]
  },
  {
   "cell_type": "markdown",
   "metadata": {},
   "source": [
    "### Removing redundant tours to increase efficiency\n",
    "The permutation `(1, 2, 3)` represents the tour that goes from 1 to 2 to 3 and back to 1.  You may have noticed that there aren't really six different tours of three cities: the cities 1, 2, and 3 form a triangle;  any tour must connect the three points of the triangle; and there are really only two ways to do this: clockwise or counterclockwise.   In general, with $n$ cities, there are $n!$ (that is, $n$ factorial) permutations, but only  $(n-1)!$,  tours that are *distinct*: the tours `123`, `231`, and `312` are three ways of representing the *same* tour.\n",
    "\n",
    "So we can make our `TSP` program $n$ times faster by never considering redundant tours. Arbitrarily, we will say that all tours must start with the \"first\" city in the set of cities. We don't have to change the definition of `TSP`&mdash;just by making `alltours` return only nonredundant tours, the whole program gets faster.\n"
   ]
  },
  {
   "cell_type": "code",
   "execution_count": 13,
   "metadata": {},
   "outputs": [],
   "source": [
    "def all_non_redundant_tours(cities):\n",
    "    \"Return a list of tours, each a permutation of cities, but each one starting with the same city.\"\n",
    "    start = first(cities)\n",
    "    return [[start] + list(tour)\n",
    "            for tour in itertools.permutations(cities - {start})]\n",
    "\n",
    "def first(collection):\n",
    "    \"Start iterating over collection, and return the first element.\"\n",
    "    for x in collection: return x\n",
    "\n",
    "def exact_non_redundant_TSP(cieaties):\n",
    "    \"Generate all possible tours of the cities and choose the shortest one.\"\n",
    "    return shortest(all_non_redundant_tours(cities))"
   ]
  },
  {
   "cell_type": "code",
   "execution_count": 14,
   "metadata": {},
   "outputs": [
    {
     "data": {
      "text/plain": [
       "[[1, 2, 3], [1, 3, 2]]"
      ]
     },
     "execution_count": 14,
     "metadata": {},
     "output_type": "execute_result"
    }
   ],
   "source": [
    "all_non_redundant_tours({1, 2, 3})"
   ]
  },
  {
   "cell_type": "markdown",
   "metadata": {},
   "source": [
    "### finding time based on First Approach: Exhaustive Search"
   ]
  },
  {
   "cell_type": "code",
   "execution_count": 15,
   "metadata": {},
   "outputs": [
    {
     "name": "stdout",
     "output_type": "stream",
     "text": [
      "119 ms ± 7.21 ms per loop (mean ± std. dev. of 7 runs, 10 loops each)\n"
     ]
    }
   ],
   "source": [
    "%timeit exact_TSP(cities8)"
   ]
  },
  {
   "cell_type": "code",
   "execution_count": 16,
   "metadata": {},
   "outputs": [
    {
     "name": "stdout",
     "output_type": "stream",
     "text": [
      "5.42 µs ± 173 ns per loop (mean ± std. dev. of 7 runs, 100000 loops each)\n"
     ]
    }
   ],
   "source": [
    "%timeit exact_non_redundant_TSP(cities8)"
   ]
  },
  {
   "cell_type": "markdown",
   "metadata": {},
   "source": [
    "## Second approach: Approximate (Heuristic) algorithms"
   ]
  },
  {
   "cell_type": "markdown",
   "metadata": {},
   "source": [
    "### Greedy approach (Nearest Neighbor approach)\n",
    "> *Start at any city; at each step extend the tour by moving from the previous city to its nearest neighbor that has not yet been visited.*\n",
    "\n",
    "This is called a *greedy algorithm*, because it greedily takes what looks best in the short term (the nearest neighbor) even when that won't always be the best in the long term. "
   ]
  },
  {
   "cell_type": "code",
   "execution_count": 17,
   "metadata": {},
   "outputs": [],
   "source": [
    "def greedy_TSP(cities):\n",
    "    \"At each step, visit the nearest neighbor that is still unvisited.\"\n",
    "    start = first(cities)\n",
    "    tour = [start]\n",
    "    unvisited = cities - {start}\n",
    "    while unvisited:\n",
    "        C = nearest_neighbor(tour[-1], unvisited)\n",
    "        tour.append(C)\n",
    "        unvisited.remove(C)\n",
    "    return tour"
   ]
  },
  {
   "cell_type": "code",
   "execution_count": 18,
   "metadata": {},
   "outputs": [],
   "source": [
    "def nearest_neighbor(A, cities):\n",
    "    \"Find the city in cities that is nearest to city A.\"\n",
    "    return min(cities, key=lambda x: distance(x, A))"
   ]
  },
  {
   "cell_type": "code",
   "execution_count": 19,
   "metadata": {},
   "outputs": [],
   "source": [
    "cities = generate_cities(10)"
   ]
  },
  {
   "cell_type": "code",
   "execution_count": 20,
   "metadata": {},
   "outputs": [
    {
     "name": "stdout",
     "output_type": "stream",
     "text": [
      "1.37 s ± 52.3 ms per loop (mean ± std. dev. of 7 runs, 1 loop each)\n"
     ]
    }
   ],
   "source": [
    "%timeit exact_non_redundant_TSP(cities)"
   ]
  },
  {
   "cell_type": "code",
   "execution_count": 21,
   "metadata": {},
   "outputs": [
    {
     "data": {
      "image/png": "[encoded data removed]",
      "text/plain": [
       "<Figure size 432x288 with 1 Axes>"
      ]
     },
     "metadata": {
      "needs_background": "light"
     },
     "output_type": "display_data"
    }
   ],
   "source": [
    "plot_tour(exact_non_redundant_TSP(cities))"
   ]
  },
  {
   "cell_type": "code",
   "execution_count": null,
   "metadata": {},
   "outputs": [],
   "source": [
    "%timeit greedy_TSP(cities)"
   ]
  },
  {
   "cell_type": "code",
   "execution_count": null,
   "metadata": {},
   "outputs": [],
   "source": [
    "plot_tour(greedy_TSP(cities))"
   ]
  },
  {
   "cell_type": "markdown",
   "metadata": {},
   "source": [
    "Comparing the time taken to get results for 10 cities, it is clear that greedy approach is efficient compared to the exhaustive search.\n",
    "\n",
    "A [greedy algorithm](http://en.wikipedia.org/wiki/Greedy_algorithm) is an algorithm that follows the problem solving heuristic of making the locally optimal choice at each stage with the hope of finding a global optimum. In many problems, a greedy strategy does not in general produce an optimal solution, but nonetheless a greedy heuristic may yield locally optimal solutions that approximate a global optimal solution in a reasonable time.\n",
    "\n",
    "For many problmes greedy algorithms fail to produce the optimal solution, and may even produce the *unique worst possible solution*."
   ]
  },
  {
   "cell_type": "markdown",
   "metadata": {},
   "source": [
    "### A thought on computational complexity\n",
    "\n",
    "<img src='http://imgs.xkcd.com/comics/travelling_salesman_problem.png' align='center' width='65%'/>\n"
   ]
  },
  {
   "cell_type": "markdown",
   "metadata": {},
   "source": [
    "# Nature-inspired metaheuristic: Genetic Algorithm (GA)\n",
    "\n",
    "- We have already studied GA in our lectures and did practice in our labs for one-max problem\n",
    "- They are an option in which we dedicate a little more computational effort in order to produce better solutions than `greedy_TSP()`.\n",
    "\n",
    "> We will be using the [DEAP](https://github.com/DEAP/deap) library to code this tackle this problem using a genetic algorithm.\n",
    "\n",
    "[<img src='https://raw.githubusercontent.com/DEAP/deap/master/doc/_static/deap_long.png' width='29%' align='center'/>](https://github.com/DEAP/deap)"
   ]
  },
  {
   "cell_type": "code",
   "execution_count": null,
   "metadata": {},
   "outputs": [],
   "source": [
    "from deap import algorithms, base, creator, tools"
   ]
  },
  {
   "cell_type": "code",
   "execution_count": null,
   "metadata": {},
   "outputs": [],
   "source": [
    "num_cities = 30\n",
    "cities = generate_cities(num_cities)"
   ]
  },
  {
   "cell_type": "code",
   "execution_count": null,
   "metadata": {},
   "outputs": [],
   "source": [
    "toolbox = base.Toolbox()"
   ]
  },
  {
   "cell_type": "code",
   "execution_count": null,
   "metadata": {},
   "outputs": [],
   "source": [
    "creator.create(\"FitnessMin\", base.Fitness, weights=(-1.0,))\n",
    "creator.create(\"Individual\", list, fitness=creator.FitnessMin)"
   ]
  },
  {
   "cell_type": "code",
   "execution_count": null,
   "metadata": {},
   "outputs": [],
   "source": [
    "toolbox.register(\"indices\", numpy.random.permutation, len(cities))\n",
    "toolbox.register(\"individual\", tools.initIterate, creator.Individual,\n",
    "                 toolbox.indices)\n",
    "toolbox.register(\"population\", tools.initRepeat, list, \n",
    "                 toolbox.individual)"
   ]
  },
  {
   "cell_type": "code",
   "execution_count": null,
   "metadata": {},
   "outputs": [],
   "source": [
    "toolbox.register(\"mate\", tools.cxOrdered)\n",
    "toolbox.register(\"mutate\", tools.mutShuffleIndexes, indpb=0.05)"
   ]
  },
  {
   "cell_type": "code",
   "execution_count": null,
   "metadata": {},
   "outputs": [],
   "source": [
    "def create_tour(individual):\n",
    "    return [list(cities)[e] for e in individual]"
   ]
  },
  {
   "cell_type": "code",
   "execution_count": null,
   "metadata": {},
   "outputs": [],
   "source": [
    "def evaluation(individual):\n",
    "    print(individual)\n",
    "    '''Evaluates an individual by converting it into \n",
    "    a list of cities and passing that list to total_distance'''\n",
    "    return (total_distance(create_tour(individual)),)"
   ]
  },
  {
   "cell_type": "code",
   "execution_count": null,
   "metadata": {},
   "outputs": [],
   "source": [
    "toolbox.register(\"evaluate\", evaluation)"
   ]
  },
  {
   "cell_type": "code",
   "execution_count": null,
   "metadata": {},
   "outputs": [],
   "source": [
    "toolbox.register(\"select\", tools.selTournament, tournsize=3)"
   ]
  },
  {
   "cell_type": "code",
   "execution_count": null,
   "metadata": {},
   "outputs": [],
   "source": [
    "pop = toolbox.population(n=100)"
   ]
  },
  {
   "cell_type": "code",
   "execution_count": null,
   "metadata": {},
   "outputs": [],
   "source": [
    "%%time \n",
    "result, log = algorithms.eaSimple(pop, toolbox,\n",
    "                             cxpb=0.8, mutpb=0.2,\n",
    "                             ngen=400, verbose=False)"
   ]
  },
  {
   "cell_type": "markdown",
   "metadata": {},
   "source": [
    "Let's check the efficiency of GA"
   ]
  },
  {
   "cell_type": "code",
   "execution_count": null,
   "metadata": {},
   "outputs": [],
   "source": [
    "best_individual = tools.selBest(result, k=1)[0]\n",
    "print('Fitness of the best individual: ', evaluation(best_individual)[0])"
   ]
  },
  {
   "cell_type": "code",
   "execution_count": null,
   "metadata": {},
   "outputs": [],
   "source": [
    "plot_tour(create_tour(best_individual))"
   ]
  },
  {
   "cell_type": "markdown",
   "metadata": {},
   "source": [
    "It is interesting to assess how the fitness of the population changed as the evolution process took place. \n",
    "\n",
    "We can prepare an `deap.tools.Statistics` instance to specify what data to collect. "
   ]
  },
  {
   "cell_type": "code",
   "execution_count": null,
   "metadata": {},
   "outputs": [],
   "source": [
    "fit_stats = tools.Statistics(key=operator.attrgetter(\"fitness.values\"))\n",
    "fit_stats.register('mean', numpy.mean)\n",
    "fit_stats.register('min', numpy.min)"
   ]
  },
  {
   "cell_type": "code",
   "execution_count": null,
   "metadata": {},
   "outputs": [],
   "source": [
    "result, log = algorithms.eaSimple(toolbox.population(n=100), toolbox,\n",
    "                                  cxpb=0.5, mutpb=0.2,\n",
    "                                  ngen=400, verbose=False,\n",
    "                                  stats=fit_stats)"
   ]
  },
  {
   "cell_type": "markdown",
   "metadata": {},
   "source": [
    "#### Plotting mean and minimum fitness values as evolution takes place"
   ]
  },
  {
   "cell_type": "code",
   "execution_count": null,
   "metadata": {},
   "outputs": [],
   "source": [
    "plt.figure(figsize=(11, 4))\n",
    "plots = plt.plot(log.select('min'),'c-', log.select('mean'), 'b-')\n",
    "plt.legend(plots, ('Minimum fitness', 'Mean fitness'), frameon=True)\n",
    "plt.ylabel('Fitness'); plt.xlabel('Iterations');"
   ]
  },
  {
   "cell_type": "markdown",
   "metadata": {},
   "source": [
    "### Q1. Compare the efficiency (time taken) of Exhaustive search, greedy search, and Genetic Algorithm for the 30 cities. [ 1 Marks]"
   ]
  },
  {
   "cell_type": "code",
   "execution_count": null,
   "metadata": {},
   "outputs": [],
   "source": [
    "#%%time\n",
    "#result = exact_non_redundant_TSP(cities)"
   ]
  },
  {
   "cell_type": "code",
   "execution_count": null,
   "metadata": {},
   "outputs": [],
   "source": [
    "%%time \n",
    "result = greedy_TSP(cities)"
   ]
  },
  {
   "cell_type": "code",
   "execution_count": null,
   "metadata": {},
   "outputs": [],
   "source": [
    "%%time \n",
    "result, log = algorithms.eaSimple(pop, toolbox,\n",
    "                             cxpb=0.8, mutpb=0.2,\n",
    "                             ngen=400, verbose=False)\n",
    "tools.selBest(result, k=1)[0]"
   ]
  },
  {
   "cell_type": "markdown",
   "metadata": {},
   "source": [
    "### Q2. Analyse the effect of population size for the above experiment. Try population size having value [25, 50, 75, 100, 125, 150, 175, 200] [ 1.5 Marks]"
   ]
  },
  {
   "cell_type": "code",
   "execution_count": null,
   "metadata": {},
   "outputs": [],
   "source": [
    "#population_results = []\n",
    "averaging_amount = 5\n",
    "for i in [25,50,75,100,125,150,175,200]:\n",
    "    total = 0\n",
    "    for _ in range(averaging_amount):\n",
    "        pop = toolbox.population(n=i)\n",
    "        result, log = algorithms.eaSimple(pop, toolbox,\n",
    "                                         cxpb=0.8, mutpb=0.2,\n",
    "                                         ngen=400, verbose=False)\n",
    "        best_individual = tools.selBest(result,k=1)[0]\n",
    "        total += evaluation(best_individual)[0]\n",
    "    print(\"Population size:\", i, \"Average:\", total/averaging_amount)\n",
    "    #population_results.append((i,total/averaging_amount))\n"
   ]
  },
  {
   "cell_type": "raw",
   "metadata": {},
   "source": [
    "As we increase the amount of population, the total distance that the best individual produces becomes smaller and smaller and thus by having more population we get a better and better score.\n",
    "\n",
    "However having a larger population size means that the computation time is much longer."
   ]
  },
  {
   "cell_type": "markdown",
   "metadata": {},
   "source": [
    "### Q3. What is the influence mutation and cross-over probability over the performance of the GA. [ 1.5 Marks]"
   ]
  },
  {
   "cell_type": "code",
   "execution_count": null,
   "metadata": {},
   "outputs": [],
   "source": [
    "cross_mutation_results = []\n",
    "pop = toolbox.population(n=50)\n",
    "\n",
    "for co in range(1,11):\n",
    "    for mu in range(1,11):\n",
    "        result, log = algorithms.eaSimple(pop, toolbox,\n",
    "                                     cxpb=1/co, mutpb=1/mu,\n",
    "                                     ngen=400, verbose=False)\n",
    "        best_individual = tools.selBest(result,k=1)[0]\n",
    "        result = evaluation(best_individual)[0]\n",
    "        print(\"Crossover: %.2f Mutation: %.2f Result: %f\" % (1/co,1/mu,result))\n",
    "        cross_mutation_results.append((co,mu,result))\n",
    "    print()\n",
    "\n",
    "minimum = sorted(cross_mutation_results,key=lambda x: x[2])[0]\n",
    "print(\"Best Crossover: %.2f Mutation: %.2f Result: %f\" % (1/minimum[0],1/minimum[1],minimum[2]))\n",
    "    "
   ]
  },
  {
   "cell_type": "raw",
   "metadata": {},
   "source": []
  },
  {
   "cell_type": "markdown",
   "metadata": {},
   "source": [
    "### Extending GA to real data\n",
    "\n",
    "Given a set of 14 GPS positions where each coordinate represents a city in Burman (Officially the Republic of the Union of Myanmar), the objective is to solve the TSP problem on it. You need to do bit of independent research for finding formula how to convert GPS coodinates (in latitudes and longitudes) to the actual distance.\n",
    "\n",
    "City[i] = {LAT[i], LON[i]}"
   ]
  },
  {
   "cell_type": "code",
   "execution_count": 48,
   "metadata": {},
   "outputs": [],
   "source": [
    "LAT = [16.47, 16.47, 20.09, 22.39, 25.23, 22.00, 20.47, \n",
    "        17.20, 16.30, 14.05, 16.53, 21.52, 19.41, 20.09]\n",
    "\n",
    "LON = [96.10, 94.44, 92.54, 93.37, 97.24, 96.05, 97.02, \n",
    "        96.29, 97.38, 98.12, 97.38, 95.59, 97.13, 94.55]\n"
   ]
  },
  {
   "cell_type": "markdown",
   "metadata": {},
   "source": [
    "### Q4. Calculate the total distance (in Kilometres) for between 14 cities based on *Latitude* and *Longitude*. [2 Marks] "
   ]
  },
  {
   "cell_type": "code",
   "execution_count": 75,
   "metadata": {},
   "outputs": [
    {
     "name": "stdout",
     "output_type": "stream",
     "text": [
      "Best distance 1390.3951443288925\n"
     ]
    },
    {
     "data": {
      "image/png": "[encoded data removed]",
      "text/plain": [
       "<Figure size 432x288 with 1 Axes>"
      ]
     },
     "metadata": {
      "needs_background": "light"
     },
     "output_type": "display_data"
    }
   ],
   "source": [
    "#https://stackoverflow.com/questions/4913349/haversine-formula-in-python-bearing-and-distance-between-two-gps-points\n",
    "from math import radians, cos, sin, asin, sqrt\n",
    "def haversine(p1, p2):\n",
    "    \"\"\"\n",
    "    Calculate the great circle distance between two points \n",
    "    on the earth (specified in decimal degrees)\n",
    "    \"\"\"\n",
    "    lon1,lat1,lon2,lat2 = p1.real,p1.imag,p2.real,p2.imag\n",
    "    \n",
    "    # convert decimal degrees to radians \n",
    "    lon1, lat1, lon2, lat2 = map(radians, [lon1, lat1, lon2, lat2])\n",
    "\n",
    "    # haversine formula \n",
    "    dlon = lon2 - lon1 \n",
    "    dlat = lat2 - lat1 \n",
    "    a = sin(dlat/2)**2 + cos(lat1) * cos(lat2) * sin(dlon/2)**2\n",
    "    c = 2 * asin(sqrt(a)) \n",
    "    r = 6371 # Radius of earth in kilometers. Use 3956 for miles\n",
    "    return c * r\n",
    "\n",
    "def create_path(individual):\n",
    "    return [cities[e] for e in individual]\n",
    "\n",
    "def total_distance(path):\n",
    "    return (sum([haversine(path[i-1],v) for i,v in enumerate(path)]),)\n",
    "\n",
    "def evaluation(individual):\n",
    "    return total_distance(create_path(individual))\n",
    "\n",
    "cities = list(map(lambda x: City(x[0],x[1]), zip(LAT,LON)))\n",
    "\n",
    "#creator.create(\"FitnessMin\", base.Fitness, weights=(-1.0,))\n",
    "#creator.create(\"Individual\", list, fitness=creator.FitnessMin)\n",
    "\n",
    "toolbox.register(\"indices\", numpy.random.permutation, len(cities))\n",
    "toolbox.register(\"individual\", tools.initIterate, creator.Individual,\n",
    "                 toolbox.indices)\n",
    "#toolbox.register(\"population\", tools.initRepeat, list, \n",
    "#                 toolbox.individual)\n",
    "toolbox.register(\"evaluate\", evaluation)\n",
    "\n",
    "#toolbox.register(\"mate\", tools.cxOrdered)\n",
    "#toolbox.register(\"mutate\", tools.mutShuffleIndexes, indpb=0.05)\n",
    "\n",
    "pop = toolbox.population(n=100)\n",
    "result, log = algorithms.eaSimple(pop, toolbox,\n",
    "                             cxpb=0.8, mutpb=0.2,\n",
    "                             ngen=400, verbose=False)\n",
    "result = tools.selBest(result, k=1)[0]\n",
    "print(\"Best distance\", evaluation(result)[0])\n",
    "plot_tour(create_path(result))\n"
   ]
  },
  {
   "cell_type": "markdown",
   "metadata": {},
   "source": [
    "### Q5. Provide the route you found and the shortest path in kilometers. Is it the optimal shortest path ? explain. [2 Marks]"
   ]
  },
  {
   "cell_type": "code",
   "execution_count": null,
   "metadata": {},
   "outputs": [],
   "source": [
    "# Write your code here"
   ]
  },
  {
   "cell_type": "markdown",
   "metadata": {},
   "source": [
    "### Q6. Describe your fitness function and the way you encoded the solution [2 Marks]"
   ]
  },
  {
   "cell_type": "raw",
   "metadata": {},
   "source": [
    "Explain here"
   ]
  },
  {
   "cell_type": "markdown",
   "metadata": {},
   "source": [
    "### Q7. Provide the configuration of the GA you finally used to find your better results: mutation, crossover, population size, type of selection, mutation, crossover used, number of generations. [2 Marks]"
   ]
  },
  {
   "cell_type": "raw",
   "metadata": {},
   "source": [
    "Explain here"
   ]
  },
  {
   "cell_type": "markdown",
   "metadata": {},
   "source": [
    "## Solving Tic-Tac-Toe using Genetic Algorithm (GA)\n",
    "The game of Tic Tac Toe is played on a 3 by 3 grid.  One player marks his spots with an X, and the other marks with an O.  The players alternate placing marks on the grid with the hopes of winning the game.  The winner of the game is the first player to place 3 of his marks in a row.  If the entire grid is filled with marks, and there is no winner, the game is determined to be a draw.  This project created a player to play the game without any existing knowledge of Tic Tac Toe strategy.  The only rule that was known to the evolving player was that the players alternated turns, and when it was the evolving player’s turn, it could only place a mark on an empty spot in the grid.  To create an artificially intelligent player, three AI (Artificial Intelligence) techniques were used.  Various techniques include minimax algorithm, artificial neural networks, and genetic algorithms."
   ]
  },
  {
   "cell_type": "markdown",
   "metadata": {},
   "source": [
    "### 3D tic-tac-toe\n",
    "<img src=\"3d_tic-tac-toe-3d.jpg\" style=\"width: 200px\"/>"
   ]
  },
  {
   "cell_type": "markdown",
   "metadata": {},
   "source": [
    "### Q8. How you approached the problem of representing the solution space, and why.  Did you face any specific problem for this – for instance, choosing between different possible representations? How did you overcome it/them? Give as example how, in your approach, Tic-Tac-Toe will be represented, and explain clearly how one can read off the strategy for Tic-Tac-Toe from this “chromosome”. [2 Marks] "
   ]
  },
  {
   "cell_type": "raw",
   "metadata": {},
   "source": [
    "Explain here"
   ]
  },
  {
   "cell_type": "markdown",
   "metadata": {},
   "source": [
    "### Q9. What  fitness  function  you  chose  to  go  with  your  approach,  and  why.   As  before, describe if you faced any specific problem for this, and you overcame it/them. [1 Marks]"
   ]
  },
  {
   "cell_type": "raw",
   "metadata": {},
   "source": [
    "Explain here"
   ]
  },
  {
   "cell_type": "markdown",
   "metadata": {},
   "source": [
    "### Q10. What parameters for Genetic algorithm did you choose?  For instance what type of crossover did you choose,  with what probability,  and why.  Also outline how you determined that the solution you received is good enough. [2 Marks]"
   ]
  },
  {
   "cell_type": "raw",
   "metadata": {},
   "source": [
    "Explain here"
   ]
  },
  {
   "cell_type": "markdown",
   "metadata": {},
   "source": [
    "### Q11. Complete code for solving 3D Tic-Tac-Toe using Genetic Algorithm should be listed below. Note that this code should be complete (should not call any methods from the above code for solving TSP). You need to design the layout of the game either in console (command prompt) or Graphical User Interface (GUI) so that human (one of the player) can play against AI machine (GA strategy). [ 3 Marks]\n",
    "\n",
    "### As the code in this block is executed:\n",
    "- it provides human to pick either *X* or *O* to opt. \n",
    "- it provides option: Who will start the game, either human or machine?\n",
    "- Provides the status: Win, loss or draw"
   ]
  },
  {
   "cell_type": "code",
   "execution_count": 35,
   "metadata": {},
   "outputs": [
    {
     "name": "stdout",
     "output_type": "stream",
     "text": [
      "| | | |   | | | |   | | | |\n",
      "| | | |   | | | |   | | | |\n",
      "| | | |   | | | |   | | | |\n",
      "Enter move seperated by spaces (board x y) 0 0 0\n",
      "|X| | |   | | | |   | | | |\n",
      "| | | |   | | | |   | | | |\n",
      "| | | |   | | | |   | | | |\n",
      "IM ROBOT0 1 1\n",
      "|X| | |   | | | |   | | | |\n",
      "| |O| |   | | | |   | | | |\n",
      "| | | |   | | | |   | | | |\n",
      "Enter move seperated by spaces (board x y) 0 2 2\n",
      "|X| | |   | | | |   | | | |\n",
      "| |O| |   | | | |   | | | |\n",
      "| | |X|   | | | |   | | | |\n",
      "IM ROBOT1 1 1\n",
      "|X| | |   | | | |   | | | |\n",
      "| |O| |   | |O| |   | | | |\n",
      "| | |X|   | | | |   | | | |\n",
      "Enter move seperated by spaces (board x y) 0 0 2\n",
      "|X| | |   | | | |   | | | |\n",
      "| |O| |   | |O| |   | | | |\n",
      "|X| |X|   | | | |   | | | |\n",
      "IM ROBOT2 1 1\n",
      "|X| | |   | | | |   | | | |\n",
      "| |O| |   | |O| |   | |O| |\n",
      "|X| |X|   | | | |   | | | |\n",
      "Computer wins!\n"
     ]
    }
   ],
   "source": [
    "def get_input(message,valid):\n",
    "    print(message,end='')\n",
    "    s = input().lower()\n",
    "    while True:\n",
    "        if (valid(s)):\n",
    "            return s\n",
    "        print(\"\\nInvalid input\")\n",
    "        print(message,end='')\n",
    "        s = input().lower()\n",
    "        \n",
    "def print_boards(boards):\n",
    "    for row in range(size):\n",
    "        string = \"\"\n",
    "        for board in boards:\n",
    "            v = board[row]\n",
    "            def check(x):\n",
    "                if x is None:\n",
    "                    return \" \"\n",
    "                elif x:\n",
    "                    return \"X\"\n",
    "                return \"O\"\n",
    "            v = map(check,v)\n",
    "            string += \"|\" + \"|\".join(v) + \"|   \"    \n",
    "        print(string.strip())\n",
    "\n",
    "def check_valid_move(s):\n",
    "    try:\n",
    "        a,b,c = map(int,s.split())\n",
    "        if ((a<0 or a>=size) or \n",
    "            (b<0 or b>=size) or \n",
    "            (c<0 or c>=size)):\n",
    "            return False\n",
    "        return boards[a][c][b] is None\n",
    "    except:\n",
    "        return False\n",
    "    \n",
    "def check_boards(move, check):\n",
    "    \n",
    "    x,y = move[1],move[2]\n",
    "    board = boards[move[0]]\n",
    "    board_transposed = list(zip(*board))\n",
    "    \n",
    "    #Normal board\n",
    "    column_win = all([cell==check for cell in board[y]])\n",
    "    if (column_win):\n",
    "        return True\n",
    "    row_win = all([cell==check for cell in board_transposed[x]])\n",
    "    if (row_win):\n",
    "        return True\n",
    "    \n",
    "    #TODO: Diagonals will need to be adapted with size ever changes\n",
    "    diagonal1_win = all([board[i][i]==check for i in range(size)])\n",
    "    if (diagonal1_win):\n",
    "        return True\n",
    "    diagonal2_win = all([board[i][-i-1]==check for i in range(size)])\n",
    "    if (diagonal2_win):\n",
    "        return True\n",
    "    \n",
    "    #3D Board\n",
    "    up_win = all([boards[i][y][x]==check for i in range(size)])\n",
    "    if (up_win):\n",
    "        return True\n",
    "    diagonal3_win = all([boards[i][i][i]==check for i in range(size)])\n",
    "    if (diagonal3_win):\n",
    "        return True\n",
    "    diagonal4_win = all([boards[i][-i-1][i]==check for i in range(size)])\n",
    "    if (diagonal4_win):\n",
    "        return True\n",
    "    \n",
    "\n",
    "def move_ends_game(move):\n",
    "    return check_boards(move,True) or check_boards(move,False)\n",
    "    \n",
    "def get_computer_move():\n",
    "    pass\n",
    "        \n",
    "#message = \"Do you want to be Crosses or Noughts [X/O]: \"\n",
    "#human_is_cross = get_input(message,lambda x: x in ['x','o']) == 'x'\n",
    "\n",
    "#message = \"Human starts or computer starts? [H/C]: \"\n",
    "#human_move = get_input(message,lambda x: x in ['h','c']) == 'h'\n",
    "\n",
    "human_is_cross = True\n",
    "human_move = True\n",
    "\n",
    "size = 3\n",
    "boards = [[[None]*size for _ in range(size)] for _ in range(size)]\n",
    "\n",
    "move_counter = 0\n",
    "while True:\n",
    "    print_boards(boards)\n",
    "    if (human_move):\n",
    "        move_raw = get_input(\"Enter move seperated by spaces (board x y) \", check_valid_move)\n",
    "        move = list(map(int,move_raw.split()))\n",
    "        board,x,y = move\n",
    "        \n",
    "        boards[board][y][x] = human_is_cross\n",
    "        human_move = False\n",
    "    else:\n",
    "        #move = get_computer_move()\n",
    "        move_raw = get_input(\"IM ROBOT\", check_valid_move)\n",
    "        move = list(map(int,move_raw.split()))\n",
    "        board,x,y = move\n",
    "        \n",
    "        boards[board][y][x] = not human_is_cross\n",
    "        human_move = True\n",
    "        \n",
    "    move_counter += 1\n",
    "    if (move_counter >= size**3):\n",
    "        print(\"Draw\")\n",
    "        break\n",
    "        \n",
    "    if (move_ends_game(move)):\n",
    "        print_boards(boards)\n",
    "        print(\"Computer wins!\" if human_move else \"Player wins!\")\n",
    "        break\n"
   ]
  },
  {
   "cell_type": "code",
   "execution_count": null,
   "metadata": {},
   "outputs": [],
   "source": [
    "# Put your analysis here"
   ]
  },
  {
   "cell_type": "markdown",
   "metadata": {},
   "source": [
    "## Your Submission method"
   ]
  },
  {
   "cell_type": "markdown",
   "metadata": {},
   "source": [
    "Your submission should consist of this jupyter notebook with all your code and explanations inserted in the notebook. The notebook should contain the output of the runs so that it can be read by the assessor without needing to run the output.\n",
    "\n",
    "You have already used Jupyter Notebook earlier in the unit. In case you need help, you may refer the following tutorial https://www.datacamp.com/community/tutorials/tutorial-jupyter-notebook .\n",
    "\n",
    "Late submissions may attract penalty in accordance with the assessment policy outlined in the unit guide.\n",
    "\n",
    "Each question specifies a mark. The final mark of the assignment is the sum of all the individual marks, after applying any deductions for late submission.\n",
    "\n",
    "By submitting this assignment you are acknowledging that this is your own work. Any submissions that break the code of academic honesty will be penalised as per the [academic honesty policy](https://staff.mq.edu.au/work/strategy-planning-and-governance/university-policies-and-procedures/policies/academic-honesty)."
   ]
  }
 ],
 "metadata": {
  "kernelspec": {
   "display_name": "Python 3",
   "language": "python",
   "name": "python3"
  },
  "language_info": {
   "codemirror_mode": {
    "name": "ipython",
    "version": 3
   },
   "file_extension": ".py",
   "mimetype": "text/x-python",
   "name": "python",
   "nbconvert_exporter": "python",
   "pygments_lexer": "ipython3",
   "version": "3.7.0"
  }
 },
 "nbformat": 4,
 "nbformat_minor": 2
}
