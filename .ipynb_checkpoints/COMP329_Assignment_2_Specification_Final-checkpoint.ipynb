{
 "cells": [
  {
   "cell_type": "markdown",
   "metadata": {},
   "source": [
    "## Assignment 2\n",
    "## Weight: 20%\n",
    "## Unit - COMP329: Artificial Intelligence\n",
    "## Date of Release: 18 October, 2018\n",
    "## Date of Submission: 07 November, 2018 [11: 55 pm]\n"
   ]
  },
  {
   "cell_type": "markdown",
   "metadata": {},
   "source": [
    "### Write your Details below:"
   ]
  },
  {
   "cell_type": "raw",
   "metadata": {},
   "source": [
    "Registration Number: 444805632\n",
    "Name of the student: James Ridey"
   ]
  },
  {
   "cell_type": "markdown",
   "metadata": {},
   "source": [
    "# The goal of this assignment is to appreciate the power of Evolutionary Algorithms (e.g., Genetic Algorithm, or GA in short) for solving real-world problems such as the Travelling Salesman Problem (TSP) and simple adversarial games such as Tic-Tac-Toe."
   ]
  },
  {
   "cell_type": "markdown",
   "metadata": {},
   "source": [
    "## Travelling Salesman Problem:\n",
    "### Acknowledgment: \n",
    "#### The following is largely based on Peter Norvig's note on TSP: (https://github.com/norvig/pytudes/blob/master/ipynb/TSP.ipynb)\n",
    "#### Given a set of cities and the distance between each pair of cities, what is the shortest possible tour that visits each city exactly once, and returns to the starting city?"
   ]
  },
  {
   "cell_type": "markdown",
   "metadata": {},
   "source": [
    "<img src=\"tsp.png\">"
   ]
  },
  {
   "cell_type": "markdown",
   "metadata": {},
   "source": [
    "#### Let's us define the problem more precisely\n",
    "- ***Given a set of cities***\n",
    "<br>A Python `set` could represent a set of cities. An individual city might be just an integer index, or it might be (x, y) coordinates.\n",
    "- ... ***and the distance between each pair of cities***: \n",
    "<br>We could use either a function, `distance(A, B),` or a table, `distance[A, B]`.\n",
    "- ... ***what is the shortest possible tour***\n",
    "<br>A tour is a sequential order in which to visit the cities; a function `shortest_tour(tours)` should find the one that minimizes `tour_length(tour)`, which is the sum of the distances between adjacent cities in the tour. \n",
    "- ... ***that visits each city once and returns to the starting city***\n",
    "<br>Make sure a tour doesn't re-visit a city (except returning to the start)."
   ]
  },
  {
   "cell_type": "markdown",
   "metadata": {},
   "source": [
    "### The *vocabulary* of the problem:\n",
    "\n",
    "- **City**: For the purpose of this exercise, a city is \"atomic\" in the sense that we don't have to know anything about the components or attributes of a city, just how far it is from other cities.\n",
    "- **Cities**: We will need to represent a set of cities; Python's `set` datatype might be appropriate for that.\n",
    "- **Distance**: We will need the distance between two cities.  If `A` and `B` are cities. This could be done with a function, `distance(A, B)`, or with a dict, `distance[A][B]` or `distance[A, B]`, or with an array if `A` and `B` are integer indexes.  The resulting distance will be a real number (which Python calls a `float`).\n",
    "- **Tour**: A tour is an ordered list of cities; Python's `list` or `tuple` datatypes would work.\n",
    "- **Total distance**: The sum of the distances of adjacent cities in the tour. "
   ]
  },
  {
   "cell_type": "code",
   "execution_count": 1,
   "metadata": {},
   "outputs": [],
   "source": [
    "import matplotlib.pyplot as plt\n",
    "import matplotlib.colors as colors\n",
    "import matplotlib.cm as cmx\n",
    "\n",
    "import random, operator, time, itertools, math\n",
    "import numpy\n",
    "\n",
    "%matplotlib inline\n",
    "#%config InlineBackend.figure_format = 'retina'\n",
    "#plt.rc('text', usetex=True)\n",
    "#plt.rc('font', family='serif')\n",
    "#plt.rcParams['text.latex.preamble'] ='\\\\usepackage{libertine}\\n\\\\usepackage[utf8]{inputenc}'\n",
    "\n",
    "import seaborn\n",
    "seaborn.set(style='whitegrid')\n",
    "seaborn.set_context('notebook')"
   ]
  },
  {
   "cell_type": "markdown",
   "metadata": {},
   "source": [
    "### First algorithm: find the tour with shortest total distance from all possible tours\n",
    "\n",
    "> *Generate all the possible tours of the cities, and choose the shortest one (the tour with the minimum total distance).*\n",
    "\n",
    "### Representing Tours\n",
    "\n",
    "- A tour starts in one city, and then visits each of the other cities in order, before finally retirning to the start. \n",
    "- A natural representation of the set of available cities is a Python `set`, and a natural representation of a tour is a sequence that is a *permutation* of the set. \n",
    "- The tuple `(1, 2, 3)`, for example, represents a tour that starts in city 1, moves to 2, then 3, and then returns to 1 to finish the tour."
   ]
  },
  {
   "cell_type": "code",
   "execution_count": 2,
   "metadata": {},
   "outputs": [
    {
     "data": {
      "text/plain": [
       "[(1, 2, 3), (1, 3, 2), (2, 1, 3), (2, 3, 1), (3, 1, 2), (3, 2, 1)]"
      ]
     },
     "execution_count": 2,
     "metadata": {},
     "output_type": "execute_result"
    }
   ],
   "source": [
    "alltours = itertools.permutations\n",
    "cities = {1, 2, 3}\n",
    "list(alltours(cities))"
   ]
  },
  {
   "cell_type": "markdown",
   "metadata": {},
   "source": [
    "### Representing Cities and Distance\n",
    "\n",
    "Now for the notion of *distance*.  We define `total_distance(tour)` as the sum of the distances between consecutive cities in the tour; that part is shown below and is easy (with one Python-specific trick: when `i` is 0, then `distance(tour[0], tour[-1])` gives us the wrap-around distance between the first and last cities, because `tour[-1]` is the last element of `tour`). \n"
   ]
  },
  {
   "cell_type": "code",
   "execution_count": 3,
   "metadata": {},
   "outputs": [],
   "source": [
    "def total_distance(tour):\n",
    "    \"The total distance between each pair of consecutive cities in the tour.\"\n",
    "    return sum(distance(tour[i], tour[i-1]) \n",
    "               for i in range(len(tour)))"
   ]
  },
  {
   "cell_type": "code",
   "execution_count": 4,
   "metadata": {},
   "outputs": [],
   "source": [
    "def exact_TSP(cities):\n",
    "    \"Generate all possible tours of the cities and choose the shortest one.\"\n",
    "    return shortest(alltours(cities))\n",
    "\n",
    "def shortest(tours): \n",
    "    \"Return the tour with the minimum total distance.\"\n",
    "    return min(tours, key=total_distance)"
   ]
  },
  {
   "cell_type": "markdown",
   "metadata": {},
   "source": [
    "### Representing distance between cities"
   ]
  },
  {
   "cell_type": "code",
   "execution_count": 5,
   "metadata": {},
   "outputs": [],
   "source": [
    "City = complex # Constructor for new cities, e.g. City(300, 400)"
   ]
  },
  {
   "cell_type": "code",
   "execution_count": 6,
   "metadata": {},
   "outputs": [],
   "source": [
    "def distance(A, B): \n",
    "    \"The Euclidean distance between two cities.\"\n",
    "    return abs(A - B)"
   ]
  },
  {
   "cell_type": "code",
   "execution_count": 7,
   "metadata": {},
   "outputs": [
    {
     "data": {
      "text/plain": [
       "500.0"
      ]
     },
     "execution_count": 7,
     "metadata": {},
     "output_type": "execute_result"
    }
   ],
   "source": [
    "# An example to show the distance between city A and city B\n",
    "A = City(300, 0)\n",
    "B = City(0, 400)\n",
    "distance(A, B)"
   ]
  },
  {
   "cell_type": "code",
   "execution_count": 8,
   "metadata": {},
   "outputs": [],
   "source": [
    "# function to generate n cities randomly using random number generator\n",
    "def generate_cities(n):\n",
    "    \"Make a set of n cities, each with random coordinates.\"\n",
    "    return set(City(random.randrange(10, 890), \n",
    "                    random.randrange(10, 590)) \n",
    "               for c in range(n))"
   ]
  },
  {
   "cell_type": "code",
   "execution_count": 9,
   "metadata": {},
   "outputs": [],
   "source": [
    "# Generating cities\n",
    "cities8, cities10, cities100, cities1000 = generate_cities(8), generate_cities(10), generate_cities(100), generate_cities(1000)"
   ]
  },
  {
   "cell_type": "code",
   "execution_count": 10,
   "metadata": {},
   "outputs": [
    {
     "data": {
      "text/plain": [
       "{(162+103j),\n",
       " (197+127j),\n",
       " (265+76j),\n",
       " (487+80j),\n",
       " (525+508j),\n",
       " (537+57j),\n",
       " (625+101j),\n",
       " (640+484j),\n",
       " (693+564j),\n",
       " (875+24j)}"
      ]
     },
     "execution_count": 10,
     "metadata": {},
     "output_type": "execute_result"
    }
   ],
   "source": [
    "# Getting coordinates for 10 cities\n",
    "cities10"
   ]
  },
  {
   "cell_type": "markdown",
   "metadata": {},
   "source": [
    "### functions to plot the tour"
   ]
  },
  {
   "cell_type": "code",
   "execution_count": 11,
   "metadata": {},
   "outputs": [],
   "source": [
    "def plot_tour(tour, alpha=1, color=None):\n",
    "    # Plot the tour as blue lines between blue circles, and the starting city as a red square.\n",
    "    plotline(list(tour) + [tour[0]], alpha=alpha, color=color)\n",
    "    plotline([tour[0]], style='gD', alpha=alpha, size=10)\n",
    "    plt.show()\n",
    "    \n",
    "def plotline(points, style='bo-', alpha=1, size=7, color=None):\n",
    "    \"Plot a list of points (complex numbers) in the 2-D plane.\"\n",
    "    X, Y = XY(points)\n",
    "    \n",
    "    if color:\n",
    "        plt.plot(X, Y, style, alpha=alpha, markersize=size, color=color)\n",
    "    else:\n",
    "        plt.plot(X, Y, style, alpha=alpha, markersize=size)\n",
    "    \n",
    "def XY(points):\n",
    "    \"Given a list of points, return two lists: X coordinates, and Y coordinates.\"\n",
    "    return [p.real for p in points], [p.imag for p in points]"
   ]
  },
  {
   "cell_type": "code",
   "execution_count": 12,
   "metadata": {},
   "outputs": [
    {
     "data": {
      "image/png": "[encoded data removed]",
      "text/plain": [
       "<Figure size 432x288 with 1 Axes>"
      ]
     },
     "metadata": {
      "needs_background": "light"
     },
     "output_type": "display_data"
    }
   ],
   "source": [
    "tour = exact_TSP(cities10)\n",
    "plot_tour(tour)"
   ]
  },
  {
   "cell_type": "markdown",
   "metadata": {},
   "source": [
    "### Removing redundant tours to increase efficiency\n",
    "The permutation `(1, 2, 3)` represents the tour that goes from 1 to 2 to 3 and back to 1.  You may have noticed that there aren't really six different tours of three cities: the cities 1, 2, and 3 form a triangle;  any tour must connect the three points of the triangle; and there are really only two ways to do this: clockwise or counterclockwise.   In general, with $n$ cities, there are $n!$ (that is, $n$ factorial) permutations, but only  $(n-1)!$,  tours that are *distinct*: the tours `123`, `231`, and `312` are three ways of representing the *same* tour.\n",
    "\n",
    "So we can make our `TSP` program $n$ times faster by never considering redundant tours. Arbitrarily, we will say that all tours must start with the \"first\" city in the set of cities. We don't have to change the definition of `TSP`&mdash;just by making `alltours` return only nonredundant tours, the whole program gets faster.\n"
   ]
  },
  {
   "cell_type": "code",
   "execution_count": 13,
   "metadata": {},
   "outputs": [],
   "source": [
    "def all_non_redundant_tours(cities):\n",
    "    \"Return a list of tours, each a permutation of cities, but each one starting with the same city.\"\n",
    "    start = first(cities)\n",
    "    return [[start] + list(tour)\n",
    "            for tour in itertools.permutations(cities - {start})]\n",
    "\n",
    "def first(collection):\n",
    "    \"Start iterating over collection, and return the first element.\"\n",
    "    for x in collection: return x\n",
    "\n",
    "def exact_non_redundant_TSP(cieaties):\n",
    "    \"Generate all possible tours of the cities and choose the shortest one.\"\n",
    "    return shortest(all_non_redundant_tours(cities))"
   ]
  },
  {
   "cell_type": "code",
   "execution_count": 14,
   "metadata": {},
   "outputs": [
    {
     "data": {
      "text/plain": [
       "[[1, 2, 3], [1, 3, 2]]"
      ]
     },
     "execution_count": 14,
     "metadata": {},
     "output_type": "execute_result"
    }
   ],
   "source": [
    "all_non_redundant_tours({1, 2, 3})"
   ]
  },
  {
   "cell_type": "markdown",
   "metadata": {},
   "source": [
    "### finding time based on First Approach: Exhaustive Search"
   ]
  },
  {
   "cell_type": "code",
   "execution_count": 15,
   "metadata": {},
   "outputs": [
    {
     "name": "stdout",
     "output_type": "stream",
     "text": [
      "161 ms ± 3.27 ms per loop (mean ± std. dev. of 7 runs, 10 loops each)\n"
     ]
    }
   ],
   "source": [
    "%timeit exact_TSP(cities8)"
   ]
  },
  {
   "cell_type": "code",
   "execution_count": 16,
   "metadata": {},
   "outputs": [
    {
     "name": "stdout",
     "output_type": "stream",
     "text": [
      "8.15 µs ± 127 ns per loop (mean ± std. dev. of 7 runs, 100000 loops each)\n"
     ]
    }
   ],
   "source": [
    "%timeit exact_non_redundant_TSP(cities8)"
   ]
  },
  {
   "cell_type": "markdown",
   "metadata": {},
   "source": [
    "## Second approach: Approximate (Heuristic) algorithms"
   ]
  },
  {
   "cell_type": "markdown",
   "metadata": {},
   "source": [
    "### Greedy approach (Nearest Neighbor approach)\n",
    "> *Start at any city; at each step extend the tour by moving from the previous city to its nearest neighbor that has not yet been visited.*\n",
    "\n",
    "This is called a *greedy algorithm*, because it greedily takes what looks best in the short term (the nearest neighbor) even when that won't always be the best in the long term. "
   ]
  },
  {
   "cell_type": "code",
   "execution_count": 17,
   "metadata": {},
   "outputs": [],
   "source": [
    "def greedy_TSP(cities):\n",
    "    \"At each step, visit the nearest neighbor that is still unvisited.\"\n",
    "    start = first(cities)\n",
    "    tour = [start]\n",
    "    unvisited = cities - {start}\n",
    "    while unvisited:\n",
    "        C = nearest_neighbor(tour[-1], unvisited)\n",
    "        tour.append(C)\n",
    "        unvisited.remove(C)\n",
    "    return tour"
   ]
  },
  {
   "cell_type": "code",
   "execution_count": 18,
   "metadata": {},
   "outputs": [],
   "source": [
    "def nearest_neighbor(A, cities):\n",
    "    \"Find the city in cities that is nearest to city A.\"\n",
    "    return min(cities, key=lambda x: distance(x, A))"
   ]
  },
  {
   "cell_type": "code",
   "execution_count": 19,
   "metadata": {},
   "outputs": [],
   "source": [
    "cities = generate_cities(10)"
   ]
  },
  {
   "cell_type": "code",
   "execution_count": 20,
   "metadata": {},
   "outputs": [
    {
     "name": "stdout",
     "output_type": "stream",
     "text": [
      "2 s ± 44.8 ms per loop (mean ± std. dev. of 7 runs, 1 loop each)\n"
     ]
    }
   ],
   "source": [
    "%timeit exact_non_redundant_TSP(cities)"
   ]
  },
  {
   "cell_type": "code",
   "execution_count": 21,
   "metadata": {},
   "outputs": [
    {
     "data": {
      "image/png": "[encoded data removed]",
      "text/plain": [
       "<Figure size 432x288 with 1 Axes>"
      ]
     },
     "metadata": {
      "needs_background": "light"
     },
     "output_type": "display_data"
    }
   ],
   "source": [
    "plot_tour(exact_non_redundant_TSP(cities))"
   ]
  },
  {
   "cell_type": "code",
   "execution_count": 22,
   "metadata": {},
   "outputs": [
    {
     "name": "stdout",
     "output_type": "stream",
     "text": [
      "30 µs ± 1.28 µs per loop (mean ± std. dev. of 7 runs, 10000 loops each)\n"
     ]
    }
   ],
   "source": [
    "%timeit greedy_TSP(cities)"
   ]
  },
  {
   "cell_type": "code",
   "execution_count": 23,
   "metadata": {},
   "outputs": [
    {
     "data": {
      "image/png": "[encoded data removed]",
      "text/plain": [
       "<Figure size 432x288 with 1 Axes>"
      ]
     },
     "metadata": {
      "needs_background": "light"
     },
     "output_type": "display_data"
    }
   ],
   "source": [
    "plot_tour(greedy_TSP(cities))"
   ]
  },
  {
   "cell_type": "markdown",
   "metadata": {},
   "source": [
    "Comparing the time taken to get results for 10 cities, it is clear that greedy approach is efficient compared to the exhaustive search.\n",
    "\n",
    "A [greedy algorithm](http://en.wikipedia.org/wiki/Greedy_algorithm) is an algorithm that follows the problem solving heuristic of making the locally optimal choice at each stage with the hope of finding a global optimum. In many problems, a greedy strategy does not in general produce an optimal solution, but nonetheless a greedy heuristic may yield locally optimal solutions that approximate a global optimal solution in a reasonable time.\n",
    "\n",
    "For many problmes greedy algorithms fail to produce the optimal solution, and may even produce the *unique worst possible solution*."
   ]
  },
  {
   "cell_type": "markdown",
   "metadata": {},
   "source": [
    "### A thought on computational complexity\n",
    "\n",
    "<img src='http://imgs.xkcd.com/comics/travelling_salesman_problem.png' align='center' width='65%'/>\n"
   ]
  },
  {
   "cell_type": "markdown",
   "metadata": {},
   "source": [
    "# Biologically inspired metaheuristic: Genetic Algorithm (GA)\n",
    "\n",
    "- We have already studied GA in our lectures and did practice in our labs for one-max problem\n",
    "- They are an option in which we dedicate a little more computational effort in order to produce better solutions than `greedy_TSP()`.\n",
    "\n",
    "> We will be using the [DEAP](https://github.com/DEAP/deap) library to code this tackle this problem using a genetic algorithm. We have used DEAP in practical classes in this unit.\n",
    "\n",
    "[<img src='https://raw.githubusercontent.com/DEAP/deap/master/doc/_static/deap_long.png' width='29%' align='center'/>](https://github.com/DEAP/deap)"
   ]
  },
  {
   "cell_type": "code",
   "execution_count": 24,
   "metadata": {},
   "outputs": [],
   "source": [
    "from deap import algorithms, base, creator, tools"
   ]
  },
  {
   "cell_type": "code",
   "execution_count": 25,
   "metadata": {},
   "outputs": [],
   "source": [
    "num_cities = 30\n",
    "cities = generate_cities(num_cities)"
   ]
  },
  {
   "cell_type": "code",
   "execution_count": 26,
   "metadata": {},
   "outputs": [],
   "source": [
    "toolbox = base.Toolbox()"
   ]
  },
  {
   "cell_type": "code",
   "execution_count": 27,
   "metadata": {},
   "outputs": [],
   "source": [
    "creator.create(\"FitnessMin\", base.Fitness, weights=(-1.0,))\n",
    "creator.create(\"Individual\", list, fitness=creator.FitnessMin)"
   ]
  },
  {
   "cell_type": "code",
   "execution_count": 28,
   "metadata": {},
   "outputs": [],
   "source": [
    "toolbox.register(\"indices\", numpy.random.permutation, len(cities))\n",
    "toolbox.register(\"individual\", tools.initIterate, creator.Individual,\n",
    "                 toolbox.indices)\n",
    "toolbox.register(\"population\", tools.initRepeat, list, \n",
    "                 toolbox.individual)"
   ]
  },
  {
   "cell_type": "code",
   "execution_count": 29,
   "metadata": {},
   "outputs": [],
   "source": [
    "toolbox.register(\"mate\", tools.cxOrdered)\n",
    "toolbox.register(\"mutate\", tools.mutShuffleIndexes, indpb=0.05)"
   ]
  },
  {
   "cell_type": "code",
   "execution_count": 30,
   "metadata": {},
   "outputs": [],
   "source": [
    "def create_tour(individual):\n",
    "    return [list(cities)[e] for e in individual]"
   ]
  },
  {
   "cell_type": "code",
   "execution_count": 31,
   "metadata": {},
   "outputs": [],
   "source": [
    "def evaluation(individual):\n",
    "    '''Evaluates an individual by converting it into \n",
    "    a list of cities and passing that list to total_distance'''\n",
    "    return (total_distance(create_tour(individual)),)"
   ]
  },
  {
   "cell_type": "code",
   "execution_count": 32,
   "metadata": {},
   "outputs": [],
   "source": [
    "toolbox.register(\"evaluate\", evaluation)"
   ]
  },
  {
   "cell_type": "code",
   "execution_count": 33,
   "metadata": {},
   "outputs": [],
   "source": [
    "toolbox.register(\"select\", tools.selTournament, tournsize=3)"
   ]
  },
  {
   "cell_type": "code",
   "execution_count": 34,
   "metadata": {},
   "outputs": [],
   "source": [
    "pop = toolbox.population(n=100)"
   ]
  },
  {
   "cell_type": "code",
   "execution_count": 35,
   "metadata": {},
   "outputs": [
    {
     "name": "stdout",
     "output_type": "stream",
     "text": [
      "CPU times: user 8.21 s, sys: 3.25 ms, total: 8.22 s\n",
      "Wall time: 8.34 s\n"
     ]
    }
   ],
   "source": [
    "%%time \n",
    "result, log = algorithms.eaSimple(pop, toolbox,\n",
    "                             cxpb=0.8, mutpb=0.2,\n",
    "                             ngen=400, verbose=False)"
   ]
  },
  {
   "cell_type": "markdown",
   "metadata": {},
   "source": [
    "Let's check the efficiency of GA"
   ]
  },
  {
   "cell_type": "code",
   "execution_count": 36,
   "metadata": {},
   "outputs": [
    {
     "name": "stdout",
     "output_type": "stream",
     "text": [
      "Fitness of the best individual:  3628.285219556821\n"
     ]
    }
   ],
   "source": [
    "best_individual = tools.selBest(result, k=1)[0]\n",
    "print('Fitness of the best individual: ', evaluation(best_individual)[0])"
   ]
  },
  {
   "cell_type": "code",
   "execution_count": 37,
   "metadata": {},
   "outputs": [
    {
     "data": {
      "image/png": "[encoded data removed]",
      "text/plain": [
       "<Figure size 432x288 with 1 Axes>"
      ]
     },
     "metadata": {
      "needs_background": "light"
     },
     "output_type": "display_data"
    }
   ],
   "source": [
    "plot_tour(create_tour(best_individual))"
   ]
  },
  {
   "cell_type": "markdown",
   "metadata": {},
   "source": [
    "It is interesting to assess how the fitness of the population changes as the evolution process proceeds. \n",
    "\n",
    "We can prepare a `deap.tools.Statistics` instance to specify what data to collect. "
   ]
  },
  {
   "cell_type": "code",
   "execution_count": 38,
   "metadata": {},
   "outputs": [],
   "source": [
    "fit_stats = tools.Statistics(key=operator.attrgetter(\"fitness.values\"))\n",
    "fit_stats.register('mean', numpy.mean)\n",
    "fit_stats.register('min', numpy.min)"
   ]
  },
  {
   "cell_type": "code",
   "execution_count": 39,
   "metadata": {},
   "outputs": [],
   "source": [
    "result, log = algorithms.eaSimple(toolbox.population(n=100), toolbox,\n",
    "                                  cxpb=0.5, mutpb=0.2,\n",
    "                                  ngen=400, verbose=False,\n",
    "                                  stats=fit_stats)"
   ]
  },
  {
   "cell_type": "markdown",
   "metadata": {},
   "source": [
    "#### Plotting mean and minimum fitness values as evolution proceeds"
   ]
  },
  {
   "cell_type": "code",
   "execution_count": 40,
   "metadata": {},
   "outputs": [
    {
     "data": {
      "image/png": "[encoded data removed]",
      "text/plain": [
       "<Figure size 792x288 with 1 Axes>"
      ]
     },
     "metadata": {
      "needs_background": "light"
     },
     "output_type": "display_data"
    }
   ],
   "source": [
    "plt.figure(figsize=(11, 4))\n",
    "plots = plt.plot(log.select('min'),'c-', log.select('mean'), 'b-')\n",
    "plt.legend(plots, ('Minimum fitness', 'Mean fitness'), frameon=True)\n",
    "plt.ylabel('Fitness'); plt.xlabel('Iterations');"
   ]
  },
  {
   "cell_type": "markdown",
   "metadata": {},
   "source": [
    "### Q1. Compare the efficiency (time taken) of Exhaustive search, greedy search and Genetic Algorithm for 30 cities based on the configuration of your machine. If necessary, use estimates, but detail the reason for, and the basis of, the estimates used.  [ 1 Marks]"
   ]
  },
  {
   "cell_type": "code",
   "execution_count": 41,
   "metadata": {},
   "outputs": [],
   "source": [
    "#%%time\n",
    "#result = exact_non_redundant_TSP(cities)\n",
    "#The amount of distances is 30 factorial, which would take more time to compute than the age of the universe"
   ]
  },
  {
   "cell_type": "code",
   "execution_count": 42,
   "metadata": {},
   "outputs": [
    {
     "name": "stdout",
     "output_type": "stream",
     "text": [
      "CPU times: user 309 µs, sys: 2 µs, total: 311 µs\n",
      "Wall time: 318 µs\n"
     ]
    }
   ],
   "source": [
    "%%time \n",
    "result = greedy_TSP(cities)"
   ]
  },
  {
   "cell_type": "code",
   "execution_count": 43,
   "metadata": {},
   "outputs": [
    {
     "name": "stdout",
     "output_type": "stream",
     "text": [
      "CPU times: user 7.73 s, sys: 0 ns, total: 7.73 s\n",
      "Wall time: 7.83 s\n"
     ]
    }
   ],
   "source": [
    "%%time \n",
    "result, log = algorithms.eaSimple(pop, toolbox,\n",
    "                             cxpb=0.8, mutpb=0.2,\n",
    "                             ngen=400, verbose=False)\n",
    "tools.selBest(result, k=1)[0]"
   ]
  },
  {
   "cell_type": "markdown",
   "metadata": {},
   "source": [
    "### Q2. Analyse the effect of population size for the above experiment. Try population size having value [25, 50, 75, 100, 125, 150, 175, 200] [ 1.5 Marks]"
   ]
  },
  {
   "cell_type": "code",
   "execution_count": 44,
   "metadata": {},
   "outputs": [
    {
     "name": "stdout",
     "output_type": "stream",
     "text": [
      "Population size: 25 Average: 4670.387721925416\n",
      "Population size: 50 Average: 3877.2669696754697\n",
      "Population size: 75 Average: 3791.978124369535\n",
      "Population size: 100 Average: 3781.5312650840597\n",
      "Population size: 125 Average: 3674.209804646848\n",
      "Population size: 150 Average: 3770.880265195881\n",
      "Population size: 175 Average: 3594.3042169170644\n",
      "Population size: 200 Average: 3616.7988252081086\n"
     ]
    }
   ],
   "source": [
    "#population_results = []\n",
    "averaging_amount = 5\n",
    "for i in [25,50,75,100,125,150,175,200]:\n",
    "    total = 0\n",
    "    for _ in range(averaging_amount):\n",
    "        pop = toolbox.population(n=i)\n",
    "        result, log = algorithms.eaSimple(pop, toolbox,\n",
    "                                         cxpb=0.8, mutpb=0.2,\n",
    "                                         ngen=400, verbose=False)\n",
    "        best_individual = tools.selBest(result,k=1)[0]\n",
    "        total += evaluation(best_individual)[0]\n",
    "    print(\"Population size:\", i, \"Average:\", total/averaging_amount)\n",
    "    #population_results.append((i,total/averaging_amount))\n"
   ]
  },
  {
   "cell_type": "raw",
   "metadata": {},
   "source": [
    "As we increase the amount of population, the total distance that the best individual produces becomes smaller and smaller and thus by having more population we get a better and better score.\n",
    "\n",
    "However having a larger population size means that the computation time is much longer."
   ]
  },
  {
   "cell_type": "markdown",
   "metadata": {},
   "source": [
    "### Q3. What is the influence  of mutation probability and cross-over probability over the performance of  GA. [ 1.5 Marks]"
   ]
  },
  {
   "cell_type": "code",
   "execution_count": 45,
   "metadata": {},
   "outputs": [
    {
     "name": "stdout",
     "output_type": "stream",
     "text": [
      "Crossover: 1.00 Mutation: 1.00 Result: 8027.927074\n",
      "Crossover: 1.00 Mutation: 0.50 Result: 5450.769423\n",
      "Crossover: 1.00 Mutation: 0.33 Result: 3686.883027\n",
      "Crossover: 1.00 Mutation: 0.25 Result: 3543.713078\n",
      "Crossover: 1.00 Mutation: 0.20 Result: 3543.713078\n",
      "Crossover: 1.00 Mutation: 0.17 Result: 3543.713078\n",
      "Crossover: 1.00 Mutation: 0.14 Result: 3543.713078\n",
      "Crossover: 1.00 Mutation: 0.12 Result: 3543.713078\n",
      "Crossover: 1.00 Mutation: 0.11 Result: 3543.713078\n",
      "Crossover: 1.00 Mutation: 0.10 Result: 3543.713078\n",
      "\n",
      "Crossover: 0.50 Mutation: 1.00 Result: 6754.547826\n",
      "Crossover: 0.50 Mutation: 0.50 Result: 4069.671577\n",
      "Crossover: 0.50 Mutation: 0.33 Result: 3613.809150\n",
      "Crossover: 0.50 Mutation: 0.25 Result: 3613.809150\n",
      "Crossover: 0.50 Mutation: 0.20 Result: 3613.809150\n",
      "Crossover: 0.50 Mutation: 0.17 Result: 3613.809150\n",
      "Crossover: 0.50 Mutation: 0.14 Result: 3613.809150\n",
      "Crossover: 0.50 Mutation: 0.12 Result: 3613.809150\n",
      "Crossover: 0.50 Mutation: 0.11 Result: 3613.809150\n",
      "Crossover: 0.50 Mutation: 0.10 Result: 3613.809150\n",
      "\n",
      "Crossover: 0.33 Mutation: 1.00 Result: 6157.358680\n",
      "Crossover: 0.33 Mutation: 0.50 Result: 4060.502848\n",
      "Crossover: 0.33 Mutation: 0.33 Result: 4050.135413\n",
      "Crossover: 0.33 Mutation: 0.25 Result: 3944.825888\n",
      "Crossover: 0.33 Mutation: 0.20 Result: 3944.825888\n",
      "Crossover: 0.33 Mutation: 0.17 Result: 3944.825888\n",
      "Crossover: 0.33 Mutation: 0.14 Result: 3944.825888\n",
      "Crossover: 0.33 Mutation: 0.12 Result: 3944.825888\n",
      "Crossover: 0.33 Mutation: 0.11 Result: 3944.825888\n",
      "Crossover: 0.33 Mutation: 0.10 Result: 3944.825888\n",
      "\n",
      "Crossover: 0.25 Mutation: 1.00 Result: 6820.120138\n",
      "Crossover: 0.25 Mutation: 0.50 Result: 4817.121591\n",
      "Crossover: 0.25 Mutation: 0.33 Result: 4447.181518\n",
      "Crossover: 0.25 Mutation: 0.25 Result: 4305.337284\n",
      "Crossover: 0.25 Mutation: 0.20 Result: 4305.337284\n",
      "Crossover: 0.25 Mutation: 0.17 Result: 4305.337284\n",
      "Crossover: 0.25 Mutation: 0.14 Result: 4305.337284\n",
      "Crossover: 0.25 Mutation: 0.12 Result: 4305.337284\n",
      "Crossover: 0.25 Mutation: 0.11 Result: 4305.337284\n",
      "Crossover: 0.25 Mutation: 0.10 Result: 4305.337284\n",
      "\n",
      "Crossover: 0.20 Mutation: 1.00 Result: 7411.938368\n",
      "Crossover: 0.20 Mutation: 0.50 Result: 4534.095850\n",
      "Crossover: 0.20 Mutation: 0.33 Result: 4196.496015\n",
      "Crossover: 0.20 Mutation: 0.25 Result: 4092.313309\n",
      "Crossover: 0.20 Mutation: 0.20 Result: 4060.195455\n",
      "Crossover: 0.20 Mutation: 0.17 Result: 3902.847999\n",
      "Crossover: 0.20 Mutation: 0.14 Result: 3902.847999\n",
      "Crossover: 0.20 Mutation: 0.12 Result: 3902.847999\n",
      "Crossover: 0.20 Mutation: 0.11 Result: 3902.847999\n",
      "Crossover: 0.20 Mutation: 0.10 Result: 3902.847999\n",
      "\n",
      "Crossover: 0.17 Mutation: 1.00 Result: 6560.251483\n",
      "Crossover: 0.17 Mutation: 0.50 Result: 4039.089176\n",
      "Crossover: 0.17 Mutation: 0.33 Result: 4039.089176\n",
      "Crossover: 0.17 Mutation: 0.25 Result: 4039.089176\n",
      "Crossover: 0.17 Mutation: 0.20 Result: 4039.089176\n",
      "Crossover: 0.17 Mutation: 0.17 Result: 4039.089176\n",
      "Crossover: 0.17 Mutation: 0.14 Result: 4039.089176\n",
      "Crossover: 0.17 Mutation: 0.12 Result: 3849.009156\n",
      "Crossover: 0.17 Mutation: 0.11 Result: 3849.009156\n",
      "Crossover: 0.17 Mutation: 0.10 Result: 3849.009156\n",
      "\n",
      "Crossover: 0.14 Mutation: 1.00 Result: 6563.827161\n",
      "Crossover: 0.14 Mutation: 0.50 Result: 4341.093548\n",
      "Crossover: 0.14 Mutation: 0.33 Result: 4258.211556\n",
      "Crossover: 0.14 Mutation: 0.25 Result: 4258.211556\n",
      "Crossover: 0.14 Mutation: 0.20 Result: 4258.211556\n",
      "Crossover: 0.14 Mutation: 0.17 Result: 4258.211556\n",
      "Crossover: 0.14 Mutation: 0.14 Result: 4258.211556\n",
      "Crossover: 0.14 Mutation: 0.12 Result: 4137.712498\n",
      "Crossover: 0.14 Mutation: 0.11 Result: 4022.560925\n",
      "Crossover: 0.14 Mutation: 0.10 Result: 4022.560925\n",
      "\n",
      "Crossover: 0.12 Mutation: 1.00 Result: 6911.891153\n",
      "Crossover: 0.12 Mutation: 0.50 Result: 3924.158106\n",
      "Crossover: 0.12 Mutation: 0.33 Result: 3914.852631\n",
      "Crossover: 0.12 Mutation: 0.25 Result: 3914.852631\n",
      "Crossover: 0.12 Mutation: 0.20 Result: 3914.852631\n",
      "Crossover: 0.12 Mutation: 0.17 Result: 3914.852631\n",
      "Crossover: 0.12 Mutation: 0.14 Result: 3914.852631\n",
      "Crossover: 0.12 Mutation: 0.12 Result: 3914.852631\n",
      "Crossover: 0.12 Mutation: 0.11 Result: 3914.852631\n",
      "Crossover: 0.12 Mutation: 0.10 Result: 3914.852631\n",
      "\n",
      "Crossover: 0.11 Mutation: 1.00 Result: 6638.101561\n",
      "Crossover: 0.11 Mutation: 0.50 Result: 4253.854273\n",
      "Crossover: 0.11 Mutation: 0.33 Result: 4200.590211\n",
      "Crossover: 0.11 Mutation: 0.25 Result: 4063.380991\n",
      "Crossover: 0.11 Mutation: 0.20 Result: 4063.380991\n",
      "Crossover: 0.11 Mutation: 0.17 Result: 4063.380991\n",
      "Crossover: 0.11 Mutation: 0.14 Result: 4063.380991\n",
      "Crossover: 0.11 Mutation: 0.12 Result: 4063.380991\n",
      "Crossover: 0.11 Mutation: 0.11 Result: 4063.380991\n",
      "Crossover: 0.11 Mutation: 0.10 Result: 4063.380991\n",
      "\n",
      "Crossover: 0.10 Mutation: 1.00 Result: 6496.018821\n",
      "Crossover: 0.10 Mutation: 0.50 Result: 4154.411432\n",
      "Crossover: 0.10 Mutation: 0.33 Result: 3984.215255\n",
      "Crossover: 0.10 Mutation: 0.25 Result: 3984.215255\n",
      "Crossover: 0.10 Mutation: 0.20 Result: 3886.427440\n",
      "Crossover: 0.10 Mutation: 0.17 Result: 3886.427440\n",
      "Crossover: 0.10 Mutation: 0.14 Result: 3886.427440\n",
      "Crossover: 0.10 Mutation: 0.12 Result: 3886.427440\n",
      "Crossover: 0.10 Mutation: 0.11 Result: 3886.427440\n",
      "Crossover: 0.10 Mutation: 0.10 Result: 3886.427440\n",
      "\n",
      "Best Crossover: 1.00 Mutation: 0.25 Result: 3543.713078\n"
     ]
    }
   ],
   "source": [
    "cross_mutation_results = []\n",
    "pop = toolbox.population(n=50)\n",
    "\n",
    "for co in range(1,11):\n",
    "    for mu in range(1,11):\n",
    "        result, log = algorithms.eaSimple(pop, toolbox,\n",
    "                                     cxpb=1/co, mutpb=1/mu,\n",
    "                                     ngen=400, verbose=False)\n",
    "        best_individual = tools.selBest(result,k=1)[0]\n",
    "        result = evaluation(best_individual)[0]\n",
    "        print(\"Crossover: %.2f Mutation: %.2f Result: %f\" % (1/co,1/mu,result))\n",
    "        cross_mutation_results.append((co,mu,result))\n",
    "    print()\n",
    "\n",
    "minimum = sorted(cross_mutation_results,key=lambda x: x[2])[0]\n",
    "print(\"Best Crossover: %.2f Mutation: %.2f Result: %f\" % (1/minimum[0],1/minimum[1],minimum[2]))\n",
    "    "
   ]
  },
  {
   "cell_type": "raw",
   "metadata": {},
   "source": [
    "What we can note from these results, it that is bad to have a high crossover or high mutation, this leads to the algorithm not being able to converge and bounce around leading to bad results with high distances.\n",
    "TODO: Justify\n",
    "\n",
    "What tends to be a winning solution, is a small amount of mutation just to try and break out of local minima's and a moderate to high crossover rate, which keeps genetic diversity while still maitaining the best results from the previous generation.\n",
    "TODO: Justify"
   ]
  },
  {
   "cell_type": "markdown",
   "metadata": {},
   "source": [
    "### Extending GA to real data\n",
    "\n",
    "We are given a set of 14 GPS positions, each coordinate representing a city in Burma (Officially the Republic of the Union of Myanmar). Our objective is to solve the TSP problem over these 14 cities. You need to do bit of independent research for finding the formula to convert the GPS coodinates of two cities (in latitudes and longitudes) to the actual distance between those two cities.\n",
    "\n",
    "City[i] = {LAT[i], LON[i]}"
   ]
  },
  {
   "cell_type": "code",
   "execution_count": 46,
   "metadata": {},
   "outputs": [],
   "source": [
    "LAT = [16.47, 16.47, 20.09, 22.39, 25.23, 22.00, 20.47, \n",
    "        17.20, 16.30, 14.05, 16.53, 21.52, 19.41, 20.09]\n",
    "\n",
    "LON = [96.10, 94.44, 92.54, 93.37, 97.24, 96.05, 97.02, \n",
    "        96.29, 97.38, 98.12, 97.38, 95.59, 97.13, 94.55]\n"
   ]
  },
  {
   "cell_type": "markdown",
   "metadata": {},
   "source": [
    "### Q4. Calculate the total distance (in Kilometres) of a tour starting with city[0], going in the order given to city[1], city[2], ... city[13] and coming back to city[0],  based on *Latitude* and *Longitude* of the 14 cities above. [2 Marks] "
   ]
  },
  {
   "cell_type": "code",
   "execution_count": 47,
   "metadata": {},
   "outputs": [
    {
     "ename": "ModuleNotFoundError",
     "evalue": "No module named 'geopy'",
     "output_type": "error",
     "traceback": [
      "\u001b[0;31m---------------------------------------------------------------------------\u001b[0m",
      "\u001b[0;31mModuleNotFoundError\u001b[0m                       Traceback (most recent call last)",
      "\u001b[0;32m<ipython-input-47-f0e7945aaefa>\u001b[0m in \u001b[0;36m<module>\u001b[0;34m()\u001b[0m\n\u001b[1;32m     19\u001b[0m \u001b[0;31m#    return c * r\u001b[0m\u001b[0;34m\u001b[0m\u001b[0;34m\u001b[0m\u001b[0m\n\u001b[1;32m     20\u001b[0m \u001b[0;34m\u001b[0m\u001b[0m\n\u001b[0;32m---> 21\u001b[0;31m \u001b[0;32mfrom\u001b[0m \u001b[0mgeopy\u001b[0m \u001b[0;32mimport\u001b[0m \u001b[0mdistance\u001b[0m\u001b[0;34m\u001b[0m\u001b[0m\n\u001b[0m\u001b[1;32m     22\u001b[0m \u001b[0;34m\u001b[0m\u001b[0m\n\u001b[1;32m     23\u001b[0m \u001b[0;31m#Create tuple from complex\u001b[0m\u001b[0;34m\u001b[0m\u001b[0;34m\u001b[0m\u001b[0m\n",
      "\u001b[0;31mModuleNotFoundError\u001b[0m: No module named 'geopy'"
     ]
    }
   ],
   "source": [
    "#https://stackoverflow.com/questions/4913349/haversine-formula-in-python-bearing-and-distance-between-two-gps-points\n",
    "#from math import radians, cos, sin, asin, sqrt\n",
    "#def haversine(p1, p2):\n",
    "#    \"\"\"\n",
    "#    Calculate the great circle distance between two points \n",
    "#    on the earth (specified in decimal degrees)\n",
    "#    \"\"\"\n",
    "#    lon1,lat1,lon2,lat2 = p1.real,p1.imag,p2.real,p2.imag\n",
    "#    \n",
    "#    # convert decimal degrees to radians \n",
    "#    lon1, lat1, lon2, lat2 = map(radians, [lon1, lat1, lon2, lat2])##\n",
    "#\n",
    "#    # haversine formula \n",
    "#    dlon = lon2 - lon1 \n",
    "#    dlat = lat2 - lat1 \n",
    "#    a = sin(dlat/2)**2 + cos(lat1) * cos(lat2) * sin(dlon/2)**2\n",
    "#    c = 2 * asin(sqrt(a)) \n",
    "#    r = 6371 # Radius of earth in kilometers. Use 3956 for miles\n",
    "#    return c * r\n",
    "\n",
    "from geopy import distance\n",
    "\n",
    "#Create tuple from complex\n",
    "def ctot(c):\n",
    "    return (c.real,c.imag)\n",
    "\n",
    "def total_distance(path):\n",
    "    return (sum([distance.distance(ctot(path[i-1]),\n",
    "                                   ctot(v)).km \n",
    "                 for i,v in enumerate(path)]),)\n",
    "\n",
    "cities = list(map(lambda x: City(x[0],x[1]), zip(LAT,LON)))\n",
    "print(\"Total distance from 0 to 14: %.2fkm\" % total_distance(cities)[0])"
   ]
  },
  {
   "cell_type": "markdown",
   "metadata": {},
   "source": [
    "### Q5. Provide the optimal route you found employing GA, and its length in kilometers.  [2 Marks]"
   ]
  },
  {
   "cell_type": "code",
   "execution_count": null,
   "metadata": {},
   "outputs": [],
   "source": [
    "def create_path(individual):\n",
    "    return [cities[e] for e in individual]\n",
    "\n",
    "def evaluation(individual):\n",
    "    return total_distance(create_path(individual))\n",
    "\n",
    "#creator.create(\"FitnessMin\", base.Fitness, weights=(-1.0,))\n",
    "#creator.create(\"Individual\", list, fitness=creator.FitnessMin)\n",
    "\n",
    "toolbox.register(\"indices\", numpy.random.permutation, len(cities))\n",
    "toolbox.register(\"individual\", tools.initIterate, creator.Individual,\n",
    "                 toolbox.indices)\n",
    "toolbox.register(\"population\", tools.initRepeat, list, \n",
    "                 toolbox.individual)\n",
    "toolbox.register(\"evaluate\", evaluation)\n",
    "\n",
    "#toolbox.register(\"mate\", tools.cxOrdered)\n",
    "#toolbox.register(\"mutate\", tools.mutShuffleIndexes, indpb=0.05)\n",
    "\n",
    "pop = toolbox.population(n=100)\n",
    "result, log = algorithms.eaSimple(pop, toolbox,\n",
    "                             cxpb=0.8, mutpb=0.2,\n",
    "                             ngen=400, verbose=False)\n",
    "\n",
    "genetic_best = tools.selBest(result, k=1)[0]\n",
    "print(\"Genetic best distance %.2fkm\" % evaluation(genetic_best)[0])\n",
    "plot_tour(create_path(genetic_best))"
   ]
  },
  {
   "cell_type": "code",
   "execution_count": null,
   "metadata": {},
   "outputs": [],
   "source": [
    "From just looking at the shortest path, it looks like we have a path that is the most optimal, however the only way to be sure would be to generate every path and test them one by one, however due to the fact that this is 14 cities and thus the amount of combinations is 14 factorial we aren't going to prove that this is the optimal path anytime soon.\n",
    "\n",
    "However, using this Github repository (https://github.com/yihui-he/TSP) and modifying it a little for how it calculates distances Simluated Annealing gives the same result as the genetic algorithm and 2-Opt is quite close, so it is quite likely that this is an optimal path.\n",
    "\n",
    "TODO: Replace"
   ]
  },
  {
   "cell_type": "markdown",
   "metadata": {},
   "source": [
    "### Q6. Describe your fitness function, and the way you encoded the potential solutions. [2 Marks]"
   ]
  },
  {
   "cell_type": "raw",
   "metadata": {},
   "source": [
    "For this problem, it works very similarily to the genetic algorithm solution for the travelling salemans provided above. The changes that were made is that instead of calculating the distance based upon Euclidean distance instead we are using the Haversine distance formula to calculate the distance the longitude and latitude would be if they were on a sphere the size of Earth."
   ]
  },
  {
   "cell_type": "markdown",
   "metadata": {},
   "source": [
    "### Q7. Provide the configuration of the GA you finally used, namely, mutation probability, crossover probability, population size, type of selection, type of mutation, type of crossover, and number of generations. [2 Marks]"
   ]
  },
  {
   "cell_type": "raw",
   "metadata": {},
   "source": [
    "TODO"
   ]
  },
  {
   "cell_type": "markdown",
   "metadata": {},
   "source": [
    "## Solving Tic-Tac-Toe using Genetic Algorithm (GA)\n",
    "The game of Tic Tac Toe (2D) is played on a 3 by 3 grid.  One player marks her squares with an X, and the other with an O.  The players alternate, placing their marks on an empty cell on the grid with the hope of winning the game.  The winner of the game is the first player to place 3 of their marks in a line (row, column, and diagnoal).  If the entire grid is filled with marks, and there is no winner, the game is declared a draw.  Your task is to create a player to play the 3D version of this game without any knowledge of strategies for playing Tic Tac Toe.  The only rule that is known to this evolving player is that the players alternate their turns, and when it is the evolving player’s turn, it could only place its own mark on an empty spot in the grid. We have already implemented Negamax algorithm to play 3D tic-tac-toe in one of the practicals. In this assignment, we try to solve 3D (3 x 3 x 3) Tic-Tac-Toe game using Genetic Algorithm (GA). "
   ]
  },
  {
   "cell_type": "markdown",
   "metadata": {},
   "source": [
    "### 3D (3 x 3 x 3) tic-tac-toe\n",
    "<img src=\"3d_tic-tac-toe-3d.jpg\" style=\"width: 200px\"/>"
   ]
  },
  {
   "cell_type": "markdown",
   "metadata": {},
   "source": [
    "### Q8. How did you approach the problem of representing the solution space, and why?  Did you face any specific problem for this – for instance, choosing between different possible representations? How did you overcome any such problem? Give as example how, in your approach, Tic-Tac-Toe (3D version) will be represented, and explain clearly how one can read off the strategy for Tic-Tac-Toe from this “chromosome”. [2 Marks] "
   ]
  },
  {
   "cell_type": "raw",
   "metadata": {},
   "source": [
    "My first idea for this question was feeding the board state to the genetic algorithm and having it make a move, However this obviously had problems, the first was if it made an invalid move, I don't have any more data to feed to the genetic algorithm to receive another move and feeding it the same data will simply give me back the same invalid move. The second problem for this naive approache was that it couldn't adapt to a changing board state, feeding in the board state only happens in the training and after that it is set.\n",
    "\n",
    "The way I decided to solve these problems is first by having the genetic algorithms output a list of moves that basically states it preference that way if the move is invalid, I can simply try the next move in the list. The way I decided to go about solving the second problem is by combining by genetic algorithms and neural networks, by having the genetic algorithm train the weights on the neural network, I have done this before with great success (https://github.com/AeroX2/sweepers-neural-network). The next problem however is that the sklearn library doesn't really support this method of manually settings the weights so I will eitheir need to figure out a workaround or recreate the neural network. "
   ]
  },
  {
   "cell_type": "markdown",
   "metadata": {},
   "source": [
    "### Q9. What  fitness  function  did you  choose  to  go  with  your  approach,  and  why?   As  before, describe if you faced any specific problem in this context, and how you overcame it. [1 Marks]"
   ]
  },
  {
   "cell_type": "raw",
   "metadata": {},
   "source": [
    "The fitness solution I decided to use for this problem is simply giving a set amount of points if the win a game, giving zero if they lose a game and dividing the fitness by 2 if they lose. The overall reason I decided to go with this solution is because originally I planned for the genetic algorithm to verse a perfect AI, however I quickly ran into issues with this mainly because the search space is very large and thus it would take an AI a very long time to precompute all of the moves ((3*3*3) factorial). \n",
    "\n",
    "So instead a better solution I thought of is pairing each genetic algorithm with its neighbour and having them verse, the problem however that might arise with this issue is that because each individual is versing another essentially random individual they may not converge or they might converge on a local minima because they are all making random moves, it is something I will have to test."
   ]
  },
  {
   "cell_type": "markdown",
   "metadata": {},
   "source": [
    "### Q10. What parameters for Genetic algorithm did you choose?  For instance what type of crossover did you choose,  with what probability,  and why?  Also outline how you determined that the solution you received is good enough. [2 Marks]"
   ]
  },
  {
   "cell_type": "raw",
   "metadata": {},
   "source": [
    "Explain here"
   ]
  },
  {
   "cell_type": "markdown",
   "metadata": {},
   "source": [
    "### Q11. Provide your complete code for solving 3D (3 x 3 x 3) Tic-Tac-Toe using Genetic Algorithm. Note that this code should be complete (should not call any methods from the above code for solving TSP). You need to design the layout of the game either in console (command prompt) or Graphical User Interface (GUI) so that human (one of the players) can play against the AI machine (GA). [ 3 Marks]\n",
    "\n",
    "### On execution of your code:\n",
    "- it asks the human to pick one of {X, O} as their preferred mark. \n",
    "- it lets the human player choose who would start the game.\n",
    "- After the game is over, it displays the result (who wins/loses or it ended in a draw)"
   ]
  },
  {
   "cell_type": "code",
   "execution_count": null,
   "metadata": {},
   "outputs": [],
   "source": [
    "import random\n",
    "from deap import algorithms, base, creator, tools\n",
    "\n",
    "def evaluation(f):\n",
    "    return (abs(sum(f)-5),)\n",
    "\n",
    "toolbox = base.Toolbox()\n",
    "\n",
    "creator.create(\"FitnessMax\", base.Fitness, weights=(1.0,))\n",
    "creator.create(\"Individual\", list, fitness=creator.FitnessMax)\n",
    "\n",
    "toolbox.register(\"attr_float\", random.random)\n",
    "toolbox.register(\"individual\", tools.initRepeat, creator.Individual,\n",
    "                 toolbox.attr_float, n=10)\n",
    "\n",
    "toolbox.register(\"population\", tools.initRepeat, list, \n",
    "                 toolbox.individual)\n",
    "toolbox.register(\"evaluate\", evaluation)\n",
    "\n",
    "toolbox.register(\"mate\", tools.cxTwoPoint)\n",
    "toolbox.register(\"mutate\", tools.mutShuffleIndexes, indpb=0.05)\n",
    "toolbox.register(\"select\", tools.selTournament, tournsize=3) \n",
    "\n",
    "pop = toolbox.population(n=100)\n",
    "result, log = algorithms.eaSimple(pop, toolbox,\n",
    "                             cxpb=0.8, mutpb=0.2,\n",
    "                             ngen=400, verbose=False)\n",
    "result = tools.selBest(result, k=1)[0]\n",
    "print(result)\n",
    "print(sum(result))"
   ]
  },
  {
   "cell_type": "code",
   "execution_count": null,
   "metadata": {},
   "outputs": [],
   "source": [
    "def get_input(message,valid):\n",
    "    print(message,end='')\n",
    "    s = input().lower()\n",
    "    while True:\n",
    "        if (valid(s)):\n",
    "            return s\n",
    "        print(\"\\nInvalid input\")\n",
    "        print(message,end='')\n",
    "        s = input().lower()\n",
    "        \n",
    "def print_boards(boards):\n",
    "    for row in range(size):\n",
    "        string = \"\"\n",
    "        for board in boards:\n",
    "            v = board[row]\n",
    "            def check(x):\n",
    "                if x is None:\n",
    "                    return \" \"\n",
    "                elif x:\n",
    "                    return \"X\"\n",
    "                return \"O\"\n",
    "            v = map(check,v)\n",
    "            string += \"|\" + \"|\".join(v) + \"|   \"    \n",
    "        print(string.strip())\n",
    "\n",
    "def check_valid_move(s):\n",
    "    try:\n",
    "        a,b,c = map(int,s.split())\n",
    "        if ((a<0 or a>=size) or \n",
    "            (b<0 or b>=size) or \n",
    "            (c<0 or c>=size)):\n",
    "            return False\n",
    "        return boards[a][c][b] is None\n",
    "    except:\n",
    "        return False\n",
    "    \n",
    "def check_boards(move, check):\n",
    "    x,y = move[1],move[2]\n",
    "    board = boards[move[0]]\n",
    "    board_transposed = list(zip(*board))\n",
    "    \n",
    "    #Normal board\n",
    "    column_win = all([cell==check for cell in board[y]])\n",
    "    if (column_win):\n",
    "        return True\n",
    "    row_win = all([cell==check for cell in board_transposed[x]])\n",
    "    if (row_win):\n",
    "        return True\n",
    "    \n",
    "    #TODO: Diagonals will need to be adapted with size ever changes\n",
    "    diagonal1_win = all([board[i][i]==check for i in range(size)])\n",
    "    if (diagonal1_win):\n",
    "        return True\n",
    "    diagonal2_win = all([board[-i-1][i]==check for i in range(size)])\n",
    "    if (diagonal2_win):\n",
    "        return True\n",
    "    \n",
    "    #3D Board \n",
    "    up_win = all([boards[i][y][x]==check for i in range(size)])\n",
    "    if (up_win):\n",
    "        return True\n",
    "    \n",
    "    #3D Diagonals\n",
    "    down_win = all([boards[i][i][x]==check for i in range(size)])\n",
    "    if (down_win):\n",
    "        return True\n",
    "    right_win = all([boards[i][y][i]==check for i in range(size)])\n",
    "    if (right_win):\n",
    "        return True\n",
    "    \n",
    "    down_right_win = all([boards[i][i][i]==check for i in range(size)])\n",
    "    if (down_right_win):\n",
    "        return True\n",
    "    down_left_win = all([boards[i][i][-i-1]==check for i in range(size)])\n",
    "    if (down_left_win):\n",
    "        return True\n",
    "\n",
    "def move_ends_game(move):\n",
    "    return check_boards(move,True) or check_boards(move,False)\n",
    "\n",
    "def move_ties_game():\n",
    "    return not any([cell is None for board in boards for row in board for cell in row])\n",
    "\n",
    "def get_computer_move():\n",
    "    pass\n",
    "\n",
    "#message = \"Do you want to be Crosses or Noughts [X/O]: \"\n",
    "#human_is_cross = get_input(message,lambda x: x in ['x','o']) == 'x'\n",
    "\n",
    "#message = \"Human starts or computer starts? [H/C]: \"\n",
    "#human_move = get_input(message,lambda x: x in ['h','c']) == 'h'\n",
    "\n",
    "human_is_cross = True\n",
    "human_move = True\n",
    "\n",
    "size = 3\n",
    "boards = [[[None]*size for _ in range(size)] for _ in range(size)]\n",
    "\n",
    "#boards[0][0][2] = True\n",
    "#boards[0][2][2] = False\n",
    "#boards[0][0][0] = True\n",
    "\n",
    "#move = get_perfect_computer_move()\n",
    "#print(move)\n",
    "\n",
    "move_counter = 0\n",
    "while True:\n",
    "    print_boards(boards)\n",
    "    if (human_move):\n",
    "        move_raw = get_input(\"Enter move seperated by spaces (board x y) \", check_valid_move)\n",
    "        move = list(map(int,move_raw.split()))\n",
    "        board,x,y = move\n",
    "\n",
    "        boards[board][y][x] = human_is_cross\n",
    "        human_move = False\n",
    "    else:\n",
    "        #move = get_perfect_computer_move()\n",
    "        #print(move)\n",
    "        #move = move[1]\n",
    "        move_raw = get_input(\"IM ROBOT\", check_valid_move)\n",
    "        move = list(map(int,move_raw.split()))\n",
    "        \n",
    "        boards[move[0]][move[2]][move[1]] = not human_is_cross\n",
    "        human_move = True\n",
    "\n",
    "    move_counter += 1\n",
    "    if (move_counter >= size**3):\n",
    "        print_boards(boards)\n",
    "        print(\"It's a draw!\")\n",
    "        break\n",
    "\n",
    "    if (move_ends_game(move)):\n",
    "        print_boards(boards)\n",
    "        print(\"Computer wins!\" if human_move else \"Player wins!\")\n",
    "        break\n"
   ]
  },
  {
   "cell_type": "code",
   "execution_count": null,
   "metadata": {},
   "outputs": [],
   "source": [
    "# Put your analysis here."
   ]
  },
  {
   "cell_type": "markdown",
   "metadata": {},
   "source": [
    "## Your Submission method"
   ]
  },
  {
   "cell_type": "markdown",
   "metadata": {},
   "source": [
    "Your submission should consist of this jupyter notebook with all your code and explanations inserted in the notebook. The notebook should contain the output of the runs so that it can be read by the assessor without needing to run the output.\n",
    "\n",
    "You have already used Jupyter Notebook earlier in the unit. In case you need help, you may refer the following tutorial https://www.datacamp.com/community/tutorials/tutorial-jupyter-notebook .\n",
    "\n",
    "Late submissions may attract penalty in accordance with the assessment policy outlined in the unit guide.\n",
    "\n",
    "Each question specifies a mark. The final mark of the assignment is the sum of all the individual marks, after applying any deductions for late submission.\n",
    "\n",
    "By submitting this assignment you are acknowledging that this is your own work. Any submissions that break the code of academic honesty will be penalised as per the [academic honesty policy](https://staff.mq.edu.au/work/strategy-planning-and-governance/university-policies-and-procedures/policies/academic-honesty)."
   ]
  }
 ],
 "metadata": {
  "kernelspec": {
   "display_name": "Python 3",
   "language": "python",
   "name": "python3"
  },
  "language_info": {
   "codemirror_mode": {
    "name": "ipython",
    "version": 3
   },
   "file_extension": ".py",
   "mimetype": "text/x-python",
   "name": "python",
   "nbconvert_exporter": "python",
   "pygments_lexer": "ipython3",
   "version": "3.7.0"
  }
 },
 "nbformat": 4,
 "nbformat_minor": 2
}
